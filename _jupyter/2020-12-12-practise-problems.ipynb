{
 "cells": [
  {
   "cell_type": "markdown",
   "metadata": {},
   "source": [
    "*Problems from [edabit](https://edabit.com/challenges).*\n",
    "\n",
    "### Introduction\n",
    "\n",
    "Have been trying to work through one problem a day as an exercise to better learn algorithms and data structures, and I'll periodically put up interesting problems here with my own solution."
   ]
  },
  {
   "cell_type": "markdown",
   "metadata": {},
   "source": [
    "### Problem 1: Prime Divisors\n",
    "\n",
    "Given a number, return all its prime divisors in a list. Create a function that takes a number as an argument and returns all its prime divisors.\n",
    "\n",
    "- n = 27\n",
    "- All divisors: [3, 9, 27]\n",
    "- Finally, from that list of divisors, return the prime ones: [3]\n",
    "\n",
    "\n",
    "**Examples**\n",
    "\n",
    "`prime_divisors(27)`\n",
    "> [3]\n",
    "\n",
    "`prime_divisors(99)`\n",
    "> [3, 11]\n",
    "\n",
    "`prime_divisors(3457)`\n",
    ">[3457]"
   ]
  },
  {
   "cell_type": "markdown",
   "metadata": {},
   "source": [
    "#### Solution\n",
    "\n",
    "Interestingly, this problem comes with some mathematical baggage. Since we want only prime divisors, we need a way to identify primes iteratively for a given value.\n",
    "\n",
    "A simple way is to use a well-known algorithm called the \"Sieve of Eratosthenes\". Basically, you start with the known primes (2 and 3), and iteratively eliminate their multiples as primes. As we iterate through the list of numbers, we will eventually end up with a list with only primes. I've tried to implement this below in the `get_all_primes_till(n)` function."
   ]
  },
  {
   "cell_type": "code",
   "execution_count": 3,
   "metadata": {},
   "outputs": [],
   "source": [
    "def get_all_primes_till(n):\n",
    "    '''\n",
    "    Implement Sieve of Eratosthenes.\n",
    "    '''\n",
    "    \n",
    "    full_number_list = [x+1 for x in range(n)] #Generate a running list of numbers ranging from 1 to the user input value\n",
    "    is_prime = [True] * n #For each number in `full_number_list`, set is_prime status to True\n",
    "    max_list_value = n #create a variable for the maximum value in the list\n",
    "\n",
    "    for index, number in enumerate(full_number_list): #for each number in the list, \n",
    "        if (is_prime[index]) & (number != 1): #if the number is prime and the number is not 1\n",
    "            is_prime[index::number] = [False for i in is_prime[index::number]] #set all multiples of the number to False in the `is_prime` list\n",
    "            is_prime[index] = True #the number itself is still a prime\n",
    "        else: #if the number is not prime OR the number is 1, skip\n",
    "            continue\n",
    "    \n",
    "    return [full_number_list[i] for i, x in enumerate(is_prime) if x] #return a list of numbers that are not enumerate"
   ]
  },
  {
   "cell_type": "markdown",
   "metadata": {},
   "source": [
    "Once you have a function that gives you a list of primes, finding divisors simply means making use of the modulo operation in Python. "
   ]
  },
  {
   "cell_type": "code",
   "execution_count": 4,
   "metadata": {},
   "outputs": [],
   "source": [
    "def prime_divisors(num):\n",
    "    primes_till_input = get_all_primes_till(num)\n",
    "    prime_divisors = []\n",
    "    for prime in primes_till_input:\n",
    "        if num % prime == 0:\n",
    "            prime_divisors.append(prime)\n",
    "    return [prime_divisor for prime_divisor in prime_divisors if prime_divisor != 1]"
   ]
  },
  {
   "cell_type": "markdown",
   "metadata": {},
   "source": [
    "Testing out the functions below, we see that it works as intended though this is probably not the fastest implementation."
   ]
  },
  {
   "cell_type": "code",
   "execution_count": 17,
   "metadata": {},
   "outputs": [
    {
     "data": {
      "text/plain": [
       "[2, 5]"
      ]
     },
     "execution_count": 17,
     "metadata": {},
     "output_type": "execute_result"
    }
   ],
   "source": [
    "prime_divisors(20)"
   ]
  },
  {
   "cell_type": "code",
   "execution_count": 13,
   "metadata": {},
   "outputs": [
    {
     "name": "stdout",
     "output_type": "stream",
     "text": [
      "6.19 µs ± 66.5 ns per loop (mean ± std. dev. of 7 runs, 100000 loops each)\n"
     ]
    }
   ],
   "source": [
    "%timeit prime_divisors(20)"
   ]
  },
  {
   "cell_type": "code",
   "execution_count": 14,
   "metadata": {},
   "outputs": [
    {
     "name": "stdout",
     "output_type": "stream",
     "text": [
      "40.5 µs ± 329 ns per loop (mean ± std. dev. of 7 runs, 10000 loops each)\n"
     ]
    }
   ],
   "source": [
    "%timeit prime_divisors(200)"
   ]
  },
  {
   "cell_type": "code",
   "execution_count": 15,
   "metadata": {},
   "outputs": [
    {
     "name": "stdout",
     "output_type": "stream",
     "text": [
      "444 µs ± 7.44 µs per loop (mean ± std. dev. of 7 runs, 1000 loops each)\n"
     ]
    }
   ],
   "source": [
    "%timeit prime_divisors(2000)"
   ]
  },
  {
   "cell_type": "markdown",
   "metadata": {},
   "source": [
    "### Problem 2: Longest Alternating Substrings\n",
    "\n",
    "Given a string of digits, return the longest substring with alternating odd/even or even/odd digits. If two or more substrings have the same length, return the substring that occurs first.\n",
    "\n",
    "\n",
    "`longest_substring(\"225424272163254474441338664823\")`\n",
    "> \"272163254\" (substrings = 254, 272163254, 474, 41, 38, 23)\n",
    "\n",
    "`longest_substring(\"594127169973391692147228678476\")`\n",
    "> \"16921472\" (substrings = 94127, 169, 16921472, 678, 476)\n",
    "\n",
    "`longest_substring(\"721449827599186159274227324466\")`\n",
    "> \"7214\" (substrings = 7214, 498, 27, 18, 61, 9274, 27, 32. 7214 and 9274 have same length, but 7214 occurs first.)"
   ]
  },
  {
   "cell_type": "markdown",
   "metadata": {},
   "source": [
    "#### Solution\n",
    "\n",
    "No real trick here. The main issue is getting Python to recognise when to append the alternating values, and when to end the substring. In the implementation below (not optimal), this is done by building a string of indices if the values are alternating, and appending a separating string when it is not. "
   ]
  },
  {
   "cell_type": "code",
   "execution_count": 1,
   "metadata": {},
   "outputs": [
    {
     "data": {
      "text/plain": [
       "'272163254'"
      ]
     },
     "execution_count": 1,
     "metadata": {},
     "output_type": "execute_result"
    }
   ],
   "source": [
    "def longest_substring(string):\n",
    "    string_to_list = list(string)\n",
    "    odd_even_indicator = [str(int(x) % 2) for x in string_to_list]\n",
    "    joined_string = ''.join(odd_even_indicator)\n",
    "    joined_string_ahead = joined_string[1:]\n",
    "\n",
    "    alternating_substring_positions = []\n",
    "\n",
    "    for i in range(len(joined_string)):\n",
    "        if i == (len(joined_string)-1):\n",
    "            if (joined_string[-1] == joined_string[-2]):\n",
    "                alternating_substring_positions.append('~~')\n",
    "                continue\n",
    "            else:\n",
    "                alternating_substring_positions.append(str(i) + ',')\n",
    "                continue\n",
    "\n",
    "        if joined_string[i] != joined_string_ahead[i]:\n",
    "            alternating_substring_positions.append(str(i) +',')\n",
    "        else:\n",
    "            alternating_substring_positions.append(str(i) +',')\n",
    "            alternating_substring_positions.append('~~')\n",
    "\n",
    "    split_list = ''.join([str(x) for x in alternating_substring_positions]).split('~')\n",
    "    split_list = [val for val in split_list if val != '']\n",
    "    split_list = [val.split(',') for val in split_list]\n",
    "    length_alternating = [len(sublist)-1 for sublist in split_list]\n",
    "    max_alternating_sequence_index = split_list[length_alternating.index(max(length_alternating))]\n",
    "    max_alternating_sequence_index = max_alternating_sequence_index[:-1]\n",
    "\n",
    "    return(''.join([string[int(index)] for index in max_alternating_sequence_index]))\n",
    "\n",
    "longest_substring(\"225424272163254474441338664823\")"
   ]
  },
  {
   "cell_type": "markdown",
   "metadata": {},
   "source": [
    "### Problem 3: Josephus Permutation\n",
    "\n",
    "A group of n prisoners stand in a circle awaiting execution. Starting from an arbitrary position(0), the executioner kills every kth person until one person remains standing, who is then granted freedom (see examples).\n",
    "\n",
    "Create a function that takes 2 arguments — the number of people to be executed n, and the step size k, and returns the original position (index) of the person who survives.\n",
    "\n",
    "`who_goes_free(9, 2)`\n",
    "> 2\n",
    "\n",
    "> Prisoners = [0, 1, 2, 3, 4, 5, 6, 7, 8] <br>\n",
    "> Executed people replaced by - (a dash) for illustration purposes. <br>\n",
    "> 1st round of execution = [0, -, 2, -, 4, -, 6, -, 8]  -> [0, 2, 4, 6, 8] <br>\n",
    "> 2nd round = [-, 2, -, 6, -] -> [2, 6]  # 0 is killed in this round because it's beside 8 who was skipped over.  <br> \n",
    "> 3rd round = [2, -]  <br>\n",
    "\n",
    "`who_goes_free(9, 3)`\n",
    "> 0\n",
    "\n",
    "> [0, 1, 2, 3, 4, 5, 6, 7, 8] <br>\n",
    "> [0, 1, -, 3, 4, -, 6, 7, -] -> [0, 1, 3, 4, 6, 7] <br>\n",
    "> [0, 1, -, 4, 6, -] -> [0, 1, 4, 6] <br>\n",
    "> [0, 1, -, 6] -> [0, 1, 6]  <br>\n",
    "> [0, -, 6] -> [0, 6]  <br>\n",
    "> [0, -] -> [0]"
   ]
  },
  {
   "cell_type": "markdown",
   "metadata": {},
   "source": [
    "#### Solution\n",
    "\n",
    "The catch here is how to tell Python to iterate across individuals EXCLUDING ELIMINATED INDIVIDUALS. I've implemented it simply by rearranging across cycles (i.e. once we go a complete circle, the list is rearranged in the order of the last eliminated person). This solves the problem, though there are probably some more efficient data structures to handle this. You can verify the calculator below against this [site](http://webspace.ship.edu/deensley/mathdl/Joseph.html)."
   ]
  },
  {
   "cell_type": "code",
   "execution_count": 2,
   "metadata": {},
   "outputs": [
    {
     "data": {
      "text/plain": [
       "[0]"
      ]
     },
     "execution_count": 2,
     "metadata": {},
     "output_type": "execute_result"
    }
   ],
   "source": [
    "def who_goes_free(n, k):\n",
    "    prisoners = [x for x in range(n)]\n",
    "    while len(prisoners) > 1:\n",
    "        if len(prisoners) < k:\n",
    "            executed = k % len(prisoners) - 1\n",
    "            prisoners[executed] = '~'\n",
    "        else:\n",
    "            prisoners[(k-1)::k] = ['~' for prisoner in prisoners[(k-1)::k]]\n",
    "\n",
    "        last_executed = -prisoners[::-1].index('~')\n",
    "        prisoners = prisoners[last_executed:] + prisoners[:last_executed]\n",
    "        prisoners = [prisoner for prisoner in prisoners if prisoner != '~']\n",
    "\n",
    "    return prisoners\n",
    "\n",
    "who_goes_free(12, 5)"
   ]
  }
 ],
 "metadata": {
  "kernelspec": {
   "display_name": "Python 3",
   "language": "python",
   "name": "python3"
  },
  "language_info": {
   "codemirror_mode": {
    "name": "ipython",
    "version": 3
   },
   "file_extension": ".py",
   "mimetype": "text/x-python",
   "name": "python",
   "nbconvert_exporter": "python",
   "pygments_lexer": "ipython3",
   "version": "3.8.5"
  }
 },
 "nbformat": 4,
 "nbformat_minor": 4
}
