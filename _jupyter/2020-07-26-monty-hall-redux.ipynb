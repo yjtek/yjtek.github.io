{
 "cells": [
  {
   "cell_type": "code",
   "execution_count": 3,
   "metadata": {},
   "outputs": [
    {
     "name": "stderr",
     "output_type": "stream",
     "text": [
      "── \u001b[1mAttaching packages\u001b[22m ─────────────────────────────────────── tidyverse 1.3.0 ──\n",
      "\n",
      "\u001b[32m✔\u001b[39m \u001b[34mggplot2\u001b[39m 3.3.2     \u001b[32m✔\u001b[39m \u001b[34mpurrr  \u001b[39m 0.3.4\n",
      "\u001b[32m✔\u001b[39m \u001b[34mtibble \u001b[39m 3.0.4     \u001b[32m✔\u001b[39m \u001b[34mdplyr  \u001b[39m 1.0.2\n",
      "\u001b[32m✔\u001b[39m \u001b[34mtidyr  \u001b[39m 1.1.2     \u001b[32m✔\u001b[39m \u001b[34mstringr\u001b[39m 1.4.0\n",
      "\u001b[32m✔\u001b[39m \u001b[34mreadr  \u001b[39m 1.4.0     \u001b[32m✔\u001b[39m \u001b[34mforcats\u001b[39m 0.5.0\n",
      "\n",
      "── \u001b[1mConflicts\u001b[22m ────────────────────────────────────────── tidyverse_conflicts() ──\n",
      "\u001b[31m✖\u001b[39m \u001b[34mdplyr\u001b[39m::\u001b[32mfilter()\u001b[39m masks \u001b[34mstats\u001b[39m::filter()\n",
      "\u001b[31m✖\u001b[39m \u001b[34mdplyr\u001b[39m::\u001b[32mlag()\u001b[39m    masks \u001b[34mstats\u001b[39m::lag()\n",
      "\n",
      "\n",
      "Attaching package: ‘gridExtra’\n",
      "\n",
      "\n",
      "The following object is masked from ‘package:dplyr’:\n",
      "\n",
      "    combine\n",
      "\n",
      "\n",
      "\n",
      "Attaching package: ‘kableExtra’\n",
      "\n",
      "\n",
      "The following object is masked from ‘package:dplyr’:\n",
      "\n",
      "    group_rows\n",
      "\n",
      "\n"
     ]
    }
   ],
   "source": [
    "library(tidyverse)\n",
    "library(gridExtra)\n",
    "library(kableExtra)\n",
    "options(kableExtra.html.bsTable = T)"
   ]
  },
  {
   "cell_type": "markdown",
   "metadata": {},
   "source": [
    "*Adapted from [Drew Dickson](https://www.albertbridgecapital.com/post/heads-i-win-2).*\n",
    "\n",
    "### Introduction\n",
    "\n",
    "I took a bit of a hiatus from this blogging thing due to the on-going prep work for my Tensorflow certification. Came across this pseudo Monty Hall problem, and the results are so delightfully unintuitive that I thought I should do a quick post to celebrate this.\n",
    "\n",
    "### Problem set up\n",
    "1. Imagine if you're told that a couple has two children, and one of them is a girl. What is the probability that the other child is also a girl?\n",
    "\n",
    "2. As an extension, what if you're told specifically that the *older* child is a girl? Does this change your answer?\n",
    "\n",
    "### Discussion\n",
    "I think it's ridiculously intuitive to simply say 50%, similar to the [Monty Hall Problem](https://en.wikipedia.org/wiki/Monty_Hall_problem). This answer comes from our intuition that children's genders are essentially a coin flip (clearly not a biologist). Having a son doesn't, *shouldn't* increase your odds of subsequently having either a son or a daughter, right?\n",
    "\n",
    "As it turns out, it really depends on how you frame this problem, which why this is a marvellous lesson on why we can't trust our statistical intuition.\n",
    "\n",
    "Let's address the first problem by drawing out the possible space of solutions. Given that a couple has 2 children, there are 4 possible gender combinations:\n",
    "\n",
    "|   | Child 1 | Child 2 |\n",
    "|---|---|---|\n",
    "| 1 | Boy | Boy |\n",
    "| 2 | Boy | Girl |\n",
    "| 3 | Girl | Boy |\n",
    "| 4 | Girl | Girl |\n",
    "\n",
    "Having been told that one of the two children is a girl, that leaves only possibilities 2, 3, and 4. $\\frac{1}{3}$ of these cases will have a girl as the unknown child, and $\\frac{2}{3}$ will have a boy. So the answer to our first question is not 50% as we first intuited, but 33%! Let's confirm this via simulation:"
   ]
  },
  {
   "cell_type": "code",
   "execution_count": 4,
   "metadata": {},
   "outputs": [
    {
     "data": {
      "text/html": [
       "<table>\n",
       "<caption>A data.frame: 1 × 1</caption>\n",
       "<thead>\n",
       "\t<tr><th scope=col>mean(bothGirls)</th></tr>\n",
       "\t<tr><th scope=col>&lt;dbl&gt;</th></tr>\n",
       "</thead>\n",
       "<tbody>\n",
       "\t<tr><td>0.3331425</td></tr>\n",
       "</tbody>\n",
       "</table>\n"
      ],
      "text/latex": [
       "A data.frame: 1 × 1\n",
       "\\begin{tabular}{l}\n",
       " mean(bothGirls)\\\\\n",
       " <dbl>\\\\\n",
       "\\hline\n",
       "\t 0.3331425\\\\\n",
       "\\end{tabular}\n"
      ],
      "text/markdown": [
       "\n",
       "A data.frame: 1 × 1\n",
       "\n",
       "| mean(bothGirls) &lt;dbl&gt; |\n",
       "|---|\n",
       "| 0.3331425 |\n",
       "\n"
      ],
      "text/plain": [
       "  mean(bothGirls)\n",
       "1 0.3331425      "
      ]
     },
     "metadata": {},
     "output_type": "display_data"
    }
   ],
   "source": [
    "child1 <- sample(c('M','F'), 100000, replace = T)\n",
    "child2 <- sample(c('M','F'), 100000, replace = T)\n",
    "families <- data.frame(child1, child2)\n",
    "families %>%\n",
    "  filter(child1 == 'F' | child2 == 'F') %>%\n",
    "  mutate(bothGirls = if_else(child1 == 'F' & child2 == 'F', 1, 0)) %>%\n",
    "  summarise(mean(bothGirls))"
   ]
  },
  {
   "cell_type": "markdown",
   "metadata": {},
   "source": [
    "As expected, conditional on the information that one of the two children is a girl, the remaining child is more likely to be a boy!\n",
    "\n",
    "What if we knew the birth order of the girl? Suppose now we know that (i) at least 1 child is a girl, and (ii) the first child is a girl. By the logic above, we are now restricted only to cases 3 and 4, and we should now see that the probability of the second child being a girl has increased to 50%."
   ]
  },
  {
   "cell_type": "code",
   "execution_count": 5,
   "metadata": {},
   "outputs": [
    {
     "data": {
      "text/html": [
       "<table>\n",
       "<caption>A data.frame: 1 × 1</caption>\n",
       "<thead>\n",
       "\t<tr><th scope=col>mean(bothGirls)</th></tr>\n",
       "\t<tr><th scope=col>&lt;dbl&gt;</th></tr>\n",
       "</thead>\n",
       "<tbody>\n",
       "\t<tr><td>0.499521</td></tr>\n",
       "</tbody>\n",
       "</table>\n"
      ],
      "text/latex": [
       "A data.frame: 1 × 1\n",
       "\\begin{tabular}{l}\n",
       " mean(bothGirls)\\\\\n",
       " <dbl>\\\\\n",
       "\\hline\n",
       "\t 0.499521\\\\\n",
       "\\end{tabular}\n"
      ],
      "text/markdown": [
       "\n",
       "A data.frame: 1 × 1\n",
       "\n",
       "| mean(bothGirls) &lt;dbl&gt; |\n",
       "|---|\n",
       "| 0.499521 |\n",
       "\n"
      ],
      "text/plain": [
       "  mean(bothGirls)\n",
       "1 0.499521       "
      ]
     },
     "metadata": {},
     "output_type": "display_data"
    }
   ],
   "source": [
    "families %>%\n",
    "  filter(child1 == 'F') %>%\n",
    "  mutate(bothGirls = if_else(child2 == 'F', 1, 0)) %>%\n",
    "  summarise(mean(bothGirls))"
   ]
  },
  {
   "cell_type": "markdown",
   "metadata": {},
   "source": [
    "### Conclusion\n",
    "Notice how the difference between problems 1 and 2 is minimal. The only additional information you get is that it is the first child that is female. Even though this provides us useful information that affects our probability space, it is counter-intuitive that this additional information is even related to the probability of the second child's gender, and is hence discarded!\n",
    "\n",
    "The takeaway here is that our statistical intuition is a tricky beast to control, so we need to be quite careful about how we draw conclusions in the course of work. A simple case where you can exploit this intuitive failing is by a simple coin flip bet. Flip 2 coins, reveal that one of them comes up heads, and take bets on the probability that the other comes up heads as well. At the \"fair\" odds of 2:1, you'll be netting a pretty solid profit margin. (:"
   ]
  }
 ],
 "metadata": {
  "kernelspec": {
   "display_name": "R",
   "language": "R",
   "name": "ir"
  },
  "language_info": {
   "codemirror_mode": "r",
   "file_extension": ".r",
   "mimetype": "text/x-r-source",
   "name": "R",
   "pygments_lexer": "r",
   "version": "4.0.3"
  }
 },
 "nbformat": 4,
 "nbformat_minor": 4
}
