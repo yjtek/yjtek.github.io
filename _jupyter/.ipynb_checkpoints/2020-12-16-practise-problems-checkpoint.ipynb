{
 "cells": [
  {
   "cell_type": "markdown",
   "metadata": {},
   "source": [
    "*Problems from [edabit](https://edabit.com/challenges).*"
   ]
  },
  {
   "cell_type": "markdown",
   "metadata": {},
   "source": [
    "### Problem 1: Crop Fields\n",
    "\n",
    "You're given a 2D list / matrix of a crop field. Each crop needs a water source. Each water source hydrates the 8 tiles around it. With \"w\" representing a water source, and \"c\" representing a crop, is every crop hydrated?\n",
    "\n",
    "`crop_hydrated([[ \"w\", \"c\" ], [ \"w\", \"c\" ], [ \"c\", \"c\" ]])`\n",
    "> True\n",
    "\n",
    "`crop_hydrated([[ \"c\", \"c\", \"c\" ]])`\n",
    "> False. there isn't even a water source.\n",
    "\n",
    "`crop_hydrated([[ \"c\", \"c\", \"c\", \"c\" ], [ \"w\", \"c\", \"c\", \"c\" ], [ \"c\", \"c\", \"c\", \"c\" ], [ \"c\", \"w\", \"c\", \"c\" ]])`\n",
    "> False\n",
    "\n",
    "Note that \"w\" on its own should return True, and \"c\" on its own should return False."
   ]
  },
  {
   "cell_type": "markdown",
   "metadata": {},
   "source": [
    "#### Solution\n",
    "\n",
    "Quite a simple solution, just looping through every possible position and checking if it is hydrated. Key is noting that hydration is simply every element that is (-1, -1) to (+1, +1) away from each water source."
   ]
  },
  {
   "cell_type": "code",
   "execution_count": 4,
   "metadata": {},
   "outputs": [],
   "source": [
    "def crop_hydrated(field):\n",
    "    \n",
    "    # Get all water positions\n",
    "    water_positions = []\n",
    "    for row, sublist in enumerate(field):\n",
    "        water_positions.append([(row, col) for col, letter in enumerate(sublist) if letter == 'w'])\n",
    "    water_positions = [subtuple for sublist in water_positions for subtuple in sublist if sublist != []]\n",
    "    \n",
    "    # Get a list of all position combinations\n",
    "    nrow = len(field)\n",
    "    ncol = len(field[0])\n",
    "    all_positions = []\n",
    "    for i in range(nrow):\n",
    "        for j in range(ncol):\n",
    "            all_positions.append((i,j))\n",
    "\n",
    "    # Get positions that are hydrated with water source\n",
    "    covered_positions = []\n",
    "    for water_position in water_positions:\n",
    "        rowpos = water_position[0]\n",
    "        colpos = water_position[1]\n",
    "    \n",
    "        covered_row_min = max(rowpos-1, 0)\n",
    "        covered_row_max = min(rowpos+1, nrow-1)\n",
    "        covered_col_min = max(colpos-1, 0)\n",
    "        covered_col_max = min(colpos+1, ncol-1)\n",
    "\n",
    "        for i in range(covered_row_min, covered_row_max+1):\n",
    "            for j in range(covered_col_min, covered_col_max+1):\n",
    "                covered_positions.append((i,j))\n",
    "    \n",
    "    # If a position is in the all_positions, but not in covered position, return it. Return boolean chceking if list is empty\n",
    "    return [position for position in all_positions if position not in covered_positions] == []"
   ]
  },
  {
   "cell_type": "code",
   "execution_count": 5,
   "metadata": {},
   "outputs": [
    {
     "data": {
      "text/plain": [
       "True"
      ]
     },
     "execution_count": 5,
     "metadata": {},
     "output_type": "execute_result"
    }
   ],
   "source": [
    "crop_hydrated([[ \"w\", \"c\" ], [ \"w\", \"c\" ], [ \"c\", \"c\" ]])"
   ]
  },
  {
   "cell_type": "markdown",
   "metadata": {},
   "source": [
    "### Problem 2: Numbers First, Letters Second\n",
    "\n",
    "Write a function that sorts list while keeping the list structure. Numbers should be first then letters both in ascending order.\n",
    "\n",
    "`num_then_char([[1, 2, 4, 3, \"a\", \"b\"], [6, \"c\", 5], [7, \"d\"], [\"f\", \"e\", 8]])`\n",
    "> [[1, 2, 3, 4, 5, 6], [7, 8, \"a\"], [\"b\", \"c\"], [\"d\", \"e\", \"f\"]]\n",
    "\n",
    "num_then_char([[1, 2, 4.4, \"f\", \"a\", \"b\"], [0], [0.5, \"d\",\"X\",3,\"s\"], [\"f\", \"e\", 8], [\"p\",\"Y\",\"Z\"], [12,18]])\n",
    "> [[0, 0.5, 1, 2, 3, 4.4], [8], [12, 18, \"X\", \"Y\", \"Z\"], [\"a\", \"b\", \"d\"], [\"e\", \"f\", \"f\"], [\"p\", \"s\"]]\n",
    "\n",
    "Test cases will contain integer and float numbers and single letters."
   ]
  },
  {
   "cell_type": "markdown",
   "metadata": {},
   "source": [
    "#### Solution\n",
    "\n",
    "The solution here relies on the key assumption that the sublists are not nested beyond 2 levels, and singleton values are also wrapped in a list.\n",
    "\n",
    "Solving this requires 2 steps. The first is to figure out the structure of the base list, so we know how to maintain it. The second is to find a way to sort the elements, so you can feed it into the appropriate structure.\n",
    "\n",
    "To sort the elements, we simply want to flatten the list, and separate them into two `number` and `character` lists. Ths allows us to use the built in `sort()` function, and concatenating the results will give us the order that we want. We can simply iterate over this to fit the structure of the original list."
   ]
  },
  {
   "cell_type": "code",
   "execution_count": 37,
   "metadata": {},
   "outputs": [
    {
     "data": {
      "text/plain": [
       "[[1, 2, 3, 4], ['a'], ['b', 'c', 'd', 'z']]"
      ]
     },
     "execution_count": 37,
     "metadata": {},
     "output_type": "execute_result"
    }
   ],
   "source": [
    "lst = [[2,1,4,3], ['z'], ['c', 'b','d','a']]\n",
    "\n",
    "def num_then_char(lst):\n",
    "    import numpy as np\n",
    "\n",
    "    # # def num_then_char(lst):\n",
    "    flat_list = sum(lst, []) #sums each element in lst with the empty list\n",
    "    char_list = sorted([x for x in flat_list if isinstance(x, str)])\n",
    "    int_list = sorted([x for x in flat_list if isinstance(x, int)])\n",
    "    flat_list = int_list + char_list\n",
    "\n",
    "    list_sizes = list(map(len, lst))\n",
    "    list_sizes_cumsum = list(np.cumsum(list_sizes))\n",
    "    list_sizes_cumsum = [0] + list_sizes_cumsum\n",
    "    return_sorted = []\n",
    "    for i in range(0, (len(list_sizes_cumsum)-1)):\n",
    "        return_sorted.append(flat_list[list_sizes_cumsum[i]:list_sizes_cumsum[i+1]])\n",
    "    return(return_sorted)\n",
    "        \n",
    "num_then_char(lst)"
   ]
  },
  {
   "cell_type": "markdown",
   "metadata": {},
   "source": [
    "### Problem 3: Number of deletions\n",
    "\n",
    "Write a function `def solution(S)` that, given a string S consisting of N lowercase letters, returns the minimum number of letters that must be deleted to obtain a word in which every letter occurs a unique number of times. We only care about occurrences of letters that appear at least once in the result.\n",
    "\n",
    "`solution('aaaabbbb')`\n",
    "> 1 (Delete 1 instance of a or b to give you a: 4 and b: 3\n",
    "\n",
    "`solution('ccaaffddecee')`\n",
    "> 6 (Delete all occurrences of e and f and one occurrence of d to obtain the word `ccaadc`. Doesn't matter that some occurrences are 0)\n",
    "\n",
    "`solution('eeee')` \n",
    "> 0 (No deletions needed, since only 1 letter)\n",
    "\n",
    "`solution('example')`\n",
    "> 4\n",
    "\n",
    "Assume N $\\epsilon$ [0, 300,000] and S $\\epsilon$ [a-z]"
   ]
  },
  {
   "cell_type": "markdown",
   "metadata": {},
   "source": [
    "#### Solution\n",
    "\n",
    "The key here is realising that collections.Counter() gives you a wonderful and fast way to count the elements in your string, and can be cast as a dictionary. After that is done, solving it is simply looping over the list to check which counts have been used and decrement the necessary parts of the dictionary. "
   ]
  },
  {
   "cell_type": "code",
   "execution_count": 6,
   "metadata": {},
   "outputs": [
    {
     "data": {
      "text/plain": [
       "4"
      ]
     },
     "execution_count": 6,
     "metadata": {},
     "output_type": "execute_result"
    }
   ],
   "source": [
    "S = 'example'\n",
    "\n",
    "def solution(S):\n",
    "    import collections\n",
    "    counter = collections.Counter(S)\n",
    "    unique_letters = len(counter)\n",
    "    counter = dict(counter) #set counts of unique letters as a dictionary\n",
    "    counter_values = list(counter.values()) #find unque counts\n",
    "\n",
    "    num_changes = 0 #variable to record number of deletions\n",
    "    values_seen = list(set(counter_values)) #get the unique counts in the original data \n",
    "    values_used = list(set(counter_values)) #track which of the counts have already been used\n",
    "\n",
    "    for index, val in enumerate(counter_values): #for each unique counter value\n",
    "        if val in values_seen: #if the value is still in the values_seen list, remove it to indicate that it has been \"used\"\n",
    "            values_seen.remove(val)\n",
    "        else: #otherwise, if value is not in the values_seen list, it means that it is not a valid value\n",
    "            while (counter_values[index] in values_used) and (counter_values[index] != 0): #while the is found in the values_used list AND the value is non zero\n",
    "                counter_values[index] -= 1 #subtract 1 from the counter value\n",
    "                num_changes += 1 #add 1 to the change tracker\n",
    "            values_used = list(set(counter_values)) #once we arrive at a value that is no longer in values_used, we recompute the set of values_used to add in the new number\n",
    "\n",
    "    return(num_changes)\n",
    "\n",
    "solution(S)"
   ]
  }
 ],
 "metadata": {
  "kernelspec": {
   "display_name": "Python 3",
   "language": "python",
   "name": "python3"
  },
  "language_info": {
   "codemirror_mode": {
    "name": "ipython",
    "version": 3
   },
   "file_extension": ".py",
   "mimetype": "text/x-python",
   "name": "python",
   "nbconvert_exporter": "python",
   "pygments_lexer": "ipython3",
   "version": "3.8.5"
  }
 },
 "nbformat": 4,
 "nbformat_minor": 4
}
