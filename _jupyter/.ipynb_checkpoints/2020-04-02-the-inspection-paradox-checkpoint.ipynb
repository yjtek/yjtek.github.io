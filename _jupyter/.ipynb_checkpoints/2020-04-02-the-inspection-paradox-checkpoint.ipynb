{
 "cells": [
  {
   "cell_type": "markdown",
   "metadata": {},
   "source": [
    "*Based on a blog post by [Jake VanderPlas](http://jakevdp.github.io/blog/2018/09/13/waiting-time-paradox/)*\n",
    "\n",
    "### Introduction\n",
    "\n",
    "Bit of a lighter post after the MCMC series. Came across this article on the waiting time paradox, and I thought it would be a good chance to dosomething light-hearted amidst this COVID outbreak.\n",
    "\n",
    "We all know that gnawing irritation we feel when, somehow, things are not as rosy as advertised. Bus schedules say that buses come every 10 minutes on average, but why does it always feel like you just missed the bus? Schools say that their average class size is around 20, but how do you always end up in a sardine-packed class? Why do your friends on Facebook always have more friends than you do?\n",
    "\n",
    "<!-- ![](/post/2020-04-02-the-inspection-paradox_files/Singapore-Bus-Stop-Poster-Guide.webp) <br> -->\n",
    "<!-- <span style=\"color: grey; font-style: italic;\">Lies</span> -->\n",
    "\n",
    "Welcome to the inspection paradox, or as the cited post puts it, the \"why is my bus always late\" paradox.\n",
    "\n",
    "### What is the inspection paradox?\n",
    "The inspection paradox occurs when the probability of observing a quantity is related to the quantity being observed. This definition is pretty convoluted on it's own, so let's talk about an intuitive example - class size.\n",
    "\n",
    "Imagine a university cohort of 100 students with 3 different classes in each semester. Class 1 has 70 students, class 2 has 20, and class 3 has 10. From the university's perspective, the average class size is a straightforward $\\frac{100}{3} = 33$. \n",
    "\n",
    "What happens if the students are surveyed? Now the story is completely different! By definition, the class size of 70 is experienced by 70 students, which biases the sample average! Instead of $\\frac{100}{3} = 33$, we now have a weighted average of class size $(0.7 \\cdot 70) + (0.2 \\cdot 20) + (0.1 \\cdot 10) = 54$ instead.\n",
    "\n",
    "In other words, the probability of an individual observing a class size of 70 is directly related to the probability of him/her being in that class!\n",
    "\n",
    "### Seeing this in practice\n",
    "Let's see this for ourselves using a very relatable example: bus arrival timings. First, let's simulate the arrival time of 100000 bus arrivals with 10 minutes as the average waiting time between buses. The timeline below shows the first 10 simulated bus arrivals assuming the arrivals are random. "
   ]
  },
  {
   "cell_type": "code",
   "execution_count": 1,
   "metadata": {},
   "outputs": [
    {
     "data": {
      "image/png": "[encoded data removed]",
      "text/plain": [
       "<Figure size 432x288 with 1 Axes>"
      ]
     },
     "metadata": {
      "needs_background": "light"
     },
     "output_type": "display_data"
    }
   ],
   "source": [
    "import numpy as np\n",
    "import matplotlib.pyplot as plt\n",
    "simulated_bus_count = 100000\n",
    "time_between_buses = 10\n",
    "random = np.random.RandomState(1)\n",
    "bus_arrival_times = simulated_bus_count * time_between_buses * np.sort(random.random(simulated_bus_count))\n",
    "\n",
    "fig, ax = plt.subplots()\n",
    "plt.plot(bus_arrival_times[:10], [0]*10, '-o', color = 'blue')\n",
    "ax.spines['right'].set_visible(False)\n",
    "ax.spines['top'].set_visible(False)\n",
    "ax.spines['left'].set_visible(False)\n",
    "tmp = 1\n",
    "for i in range(10):\n",
    "    ax.annotate(round(bus_arrival_times[i], 1), (bus_arrival_times[i], 0.01*tmp))\n",
    "    tmp *= -1\n",
    "plt.yticks([])\n",
    "plt.title(f'Time of Bus Arrivals ({time_between_buses} minute average)')\n",
    "plt.show()"
   ]
  },
  {
   "cell_type": "markdown",
   "metadata": {},
   "source": [
    "Great! Let's just make sure that, on average, the time between arrivals is 10 minutes."
   ]
  },
  {
   "cell_type": "code",
   "execution_count": 2,
   "metadata": {},
   "outputs": [
    {
     "data": {
      "text/plain": [
       "9.999899149741081"
      ]
     },
     "execution_count": 2,
     "metadata": {},
     "output_type": "execute_result"
    }
   ],
   "source": [
    "np.diff(bus_arrival_times).mean()"
   ]
  },
  {
   "cell_type": "markdown",
   "metadata": {},
   "source": [
    "Next, we simulate the arrival of passengers randomly along this range. "
   ]
  },
  {
   "cell_type": "code",
   "execution_count": 4,
   "metadata": {},
   "outputs": [
    {
     "data": {
      "image/png": "[encoded data removed]",
      "text/plain": [
       "<Figure size 432x288 with 1 Axes>"
      ]
     },
     "metadata": {
      "needs_background": "light"
     },
     "output_type": "display_data"
    }
   ],
   "source": [
    "random = np.random.RandomState(123)\n",
    "num_passengers = 100000\n",
    "\n",
    "# Get passenger arrival time\n",
    "passenger_arrival_times = simulated_bus_count * time_between_buses * np.sort(random.random(num_passengers))\n",
    "\n",
    "fig, ax = plt.subplots()\n",
    "plt.plot(bus_arrival_times[:20], [0]*20, '-o', color = 'blue')\n",
    "plt.plot(passenger_arrival_times[:10], [0]*10, '-o', color = 'red')\n",
    "ax.spines['right'].set_visible(False)\n",
    "ax.spines['top'].set_visible(False)\n",
    "ax.spines['left'].set_visible(False)\n",
    "tmp = 1\n",
    "for i in range(0, 20, 3):\n",
    "    ax.annotate(round(bus_arrival_times[i], 1), (bus_arrival_times[i], 0.01*tmp))\n",
    "    ax.annotate(round(passenger_arrival_times[i], 1), (bus_arrival_times[i], 0.01*-tmp))\n",
    "plt.yticks([])\n",
    "plt.title(f'Time of Bus and Passenger Arrivals')\n",
    "plt.show()"
   ]
  },
  {
   "cell_type": "markdown",
   "metadata": {},
   "source": [
    "We overlay our randomly generated passengers on our bus timeline. Using the np.searchsorted() function, we input the array of bus and passenger arrivals, and the function returns an `index` of bus_arrival_times for which inserting each passenger_arrival_times[i] preserves the ordering of the array. Since side = 'right', it returns the largest possible value of the index, or the nearest possible bus arrival for each passenger. Using this, we compute the average waiting time for each passenger."
   ]
  },
  {
   "cell_type": "code",
   "execution_count": 5,
   "metadata": {},
   "outputs": [
    {
     "name": "stdout",
     "output_type": "stream",
     "text": [
      "10.061306085620576\n"
     ]
    }
   ],
   "source": [
    "i = np.searchsorted(bus_arrival_times, passenger_arrival_times, side='right')\n",
    "average_waiting_time = (bus_arrival_times[i] - passenger_arrival_times).mean()\n",
    "print(average_waiting_time)"
   ]
  },
  {
   "cell_type": "markdown",
   "metadata": {},
   "source": [
    "This is a surprising result! Although the average time between buses is 10 minutes, passengers experience a 10 minute waiting time on average instead of 5mins, which you would expect if you can arrive randomly at any time between 2 buses.\n",
    "\n",
    "Like the class size example above, this result arises because you have a higher chance of 'catching' in a time period where the time between buses is large (since it takes up a longer stretch of the number line), and this biases average waiting time upwards!\n",
    "\n",
    "### Conclusion\n",
    "This was a really interesting result to me, because it's a prime example of how our statistical heuristics can end up working horrendously. Yes, I know that bus arrivals don't actually follow a uniform distribution, but I found this instructive an example to illustrate the problem of our heuristics in statistical reasoning."
   ]
  }
 ],
 "metadata": {
  "kernelspec": {
   "display_name": "Python 3",
   "language": "python",
   "name": "python3"
  },
  "language_info": {
   "codemirror_mode": {
    "name": "ipython",
    "version": 3
   },
   "file_extension": ".py",
   "mimetype": "text/x-python",
   "name": "python",
   "nbconvert_exporter": "python",
   "pygments_lexer": "ipython3",
   "version": "3.8.5"
  }
 },
 "nbformat": 4,
 "nbformat_minor": 4
}
