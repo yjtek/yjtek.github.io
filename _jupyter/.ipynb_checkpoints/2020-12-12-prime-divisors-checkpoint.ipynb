{
 "cells": [
  {
   "cell_type": "markdown",
   "metadata": {},
   "source": [
    "*Problem from [edabit](https://edabit.com/challenge/FbQqXepHC4wxrWgYg).*\n",
    "\n",
    "### Introduction\n",
    "\n",
    "Have been trying to work through one problem a day as an exercise to better learn algorithms and data structures, and I'll periodically put up interesting problems here with my own solution."
   ]
  },
  {
   "cell_type": "markdown",
   "metadata": {},
   "source": [
    "### Problem\n",
    "\n",
    "**Prime Divisors**\n",
    "\n",
    "Given a number, return all its prime divisors in a list. Create a function that takes a number as an argument and returns all its prime divisors.\n",
    "\n",
    "- n = 27\n",
    "- All divisors: [3, 9, 27]\n",
    "- Finally, from that list of divisors, return the prime ones: [3]\n",
    "\n",
    "\n",
    "**Examples**\n",
    "\n",
    "`prime_divisors(27)`\n",
    "> [3]\n",
    "\n",
    "`prime_divisors(99)`\n",
    "> [3, 11]\n",
    "\n",
    "`prime_divisors(3457)`\n",
    ">[3457]"
   ]
  },
  {
   "cell_type": "markdown",
   "metadata": {},
   "source": [
    "### Solution\n",
    "\n",
    "Interestingly, this problem comes with some mathematical baggage. Since we want only prime divisors, we need a way to identify primes iteratively for a given value.\n",
    "\n",
    "A simple way is to use a well-known algorithm called the \"Sieve of Eratosthenes\". Basically, you start with the known primes (2 and 3), and iteratively eliminate their multiples as primes. As we iterate through the list of numbers, we will eventually end up with a list with only primes. I've tried to implement this below in the `get_all_primes_till(n)` function."
   ]
  },
  {
   "cell_type": "code",
   "execution_count": 3,
   "metadata": {},
   "outputs": [],
   "source": [
    "def get_all_primes_till(n):\n",
    "    '''\n",
    "    Implement Sieve of Eratosthenes.\n",
    "    '''\n",
    "    \n",
    "    full_number_list = [x+1 for x in range(n)] #Generate a running list of numbers ranging from 1 to the user input value\n",
    "    is_prime = [True] * n #For each number in `full_number_list`, set is_prime status to True\n",
    "    max_list_value = n #create a variable for the maximum value in the list\n",
    "\n",
    "    for index, number in enumerate(full_number_list): #for each number in the list, \n",
    "        if (is_prime[index]) & (number != 1): #if the number is prime and the number is not 1\n",
    "            is_prime[index::number] = [False for i in is_prime[index::number]] #set all multiples of the number to False in the `is_prime` list\n",
    "            is_prime[index] = True #the number itself is still a prime\n",
    "        else: #if the number is not prime OR the number is 1, skip\n",
    "            continue\n",
    "    \n",
    "    return [full_number_list[i] for i, x in enumerate(is_prime) if x] #return a list of numbers that are not enumerate"
   ]
  },
  {
   "cell_type": "markdown",
   "metadata": {},
   "source": [
    "Once you have a function that gives you a list of primes, finding divisors simply means making use of the modulo operation in Python. "
   ]
  },
  {
   "cell_type": "code",
   "execution_count": 4,
   "metadata": {},
   "outputs": [],
   "source": [
    "def prime_divisors(num):\n",
    "    primes_till_input = get_all_primes_till(num)\n",
    "    prime_divisors = []\n",
    "    for prime in primes_till_input:\n",
    "        if num % prime == 0:\n",
    "            prime_divisors.append(prime)\n",
    "    return [prime_divisor for prime_divisor in prime_divisors if prime_divisor != 1]"
   ]
  },
  {
   "cell_type": "markdown",
   "metadata": {},
   "source": [
    "Testing out the functions below, we see that it works as intended though this is probably not the fastest implementation."
   ]
  },
  {
   "cell_type": "code",
   "execution_count": 17,
   "metadata": {},
   "outputs": [
    {
     "data": {
      "text/plain": [
       "[2, 5]"
      ]
     },
     "execution_count": 17,
     "metadata": {},
     "output_type": "execute_result"
    }
   ],
   "source": [
    "prime_divisors(20)"
   ]
  },
  {
   "cell_type": "code",
   "execution_count": 13,
   "metadata": {},
   "outputs": [
    {
     "name": "stdout",
     "output_type": "stream",
     "text": [
      "6.19 µs ± 66.5 ns per loop (mean ± std. dev. of 7 runs, 100000 loops each)\n"
     ]
    }
   ],
   "source": [
    "%timeit prime_divisors(20)"
   ]
  },
  {
   "cell_type": "code",
   "execution_count": 14,
   "metadata": {},
   "outputs": [
    {
     "name": "stdout",
     "output_type": "stream",
     "text": [
      "40.5 µs ± 329 ns per loop (mean ± std. dev. of 7 runs, 10000 loops each)\n"
     ]
    }
   ],
   "source": [
    "%timeit prime_divisors(200)"
   ]
  },
  {
   "cell_type": "code",
   "execution_count": 15,
   "metadata": {},
   "outputs": [
    {
     "name": "stdout",
     "output_type": "stream",
     "text": [
      "444 µs ± 7.44 µs per loop (mean ± std. dev. of 7 runs, 1000 loops each)\n"
     ]
    }
   ],
   "source": [
    "%timeit prime_divisors(2000)"
   ]
  }
 ],
 "metadata": {
  "kernelspec": {
   "display_name": "Python 3",
   "language": "python",
   "name": "python3"
  },
  "language_info": {
   "codemirror_mode": {
    "name": "ipython",
    "version": 3
   },
   "file_extension": ".py",
   "mimetype": "text/x-python",
   "name": "python",
   "nbconvert_exporter": "python",
   "pygments_lexer": "ipython3",
   "version": "3.8.5"
  }
 },
 "nbformat": 4,
 "nbformat_minor": 4
}
