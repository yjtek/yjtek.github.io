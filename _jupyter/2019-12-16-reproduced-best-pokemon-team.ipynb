{
 "cells": [
  {
   "cell_type": "code",
   "execution_count": 24,
   "metadata": {},
   "outputs": [],
   "source": [
    "library(tidyverse)\n",
    "library(gridExtra)\n",
    "library(kableExtra)\n",
    "options(kableExtra.html.bsTable = T)"
   ]
  },
  {
   "cell_type": "markdown",
   "metadata": {},
   "source": [
    "*Adapted from [Emily Robinson](https://hookedondata.org/pokemon-type-combinations/). Data from [robinsones](https://github.com/robinsones/pokemon-chart/blob/master/chart.csv).*\n",
    "\n",
    "### Introduction\n",
    "\n",
    "Came across this fairly interesting post recently. Given that there are 18 types of pokemon, some of which are super-effective/not very effective against each other, how do we pick a pokemon team combination that maximises effectiveness against the bulk of other teams? We take in a base dataset showing the effects from each 18*18 attack/defence pair. 0.5 indicates a not very effective attack, 1 indicates a normal attack, and 2 indicates a super effective attack. \n"
   ]
  },
  {
   "cell_type": "code",
   "execution_count": 37,
   "metadata": {},
   "outputs": [
    {
     "data": {
      "text/html": [
       "<table>\n",
       "<caption>A data.frame: 18 × 19</caption>\n",
       "<thead>\n",
       "\t<tr><th scope=col>Attacking</th><th scope=col>Normal</th><th scope=col>Fire</th><th scope=col>Water</th><th scope=col>Electric</th><th scope=col>Grass</th><th scope=col>Ice</th><th scope=col>Fighting</th><th scope=col>Poison</th><th scope=col>Ground</th><th scope=col>Flying</th><th scope=col>Psychic</th><th scope=col>Bug</th><th scope=col>Rock</th><th scope=col>Ghost</th><th scope=col>Dragon</th><th scope=col>Dark</th><th scope=col>Steel</th><th scope=col>Fairy</th></tr>\n",
       "\t<tr><th scope=col>&lt;chr&gt;</th><th scope=col>&lt;int&gt;</th><th scope=col>&lt;dbl&gt;</th><th scope=col>&lt;dbl&gt;</th><th scope=col>&lt;dbl&gt;</th><th scope=col>&lt;dbl&gt;</th><th scope=col>&lt;dbl&gt;</th><th scope=col>&lt;dbl&gt;</th><th scope=col>&lt;dbl&gt;</th><th scope=col>&lt;dbl&gt;</th><th scope=col>&lt;dbl&gt;</th><th scope=col>&lt;dbl&gt;</th><th scope=col>&lt;dbl&gt;</th><th scope=col>&lt;dbl&gt;</th><th scope=col>&lt;dbl&gt;</th><th scope=col>&lt;dbl&gt;</th><th scope=col>&lt;dbl&gt;</th><th scope=col>&lt;dbl&gt;</th><th scope=col>&lt;dbl&gt;</th></tr>\n",
       "</thead>\n",
       "<tbody>\n",
       "\t<tr><td>Normal  </td><td>1</td><td>1.0</td><td>1.0</td><td>1.0</td><td>1.0</td><td>1.0</td><td>1.0</td><td>1.0</td><td>1.0</td><td>1.0</td><td>1.0</td><td>1.0</td><td>0.5</td><td>0.0</td><td>1.0</td><td>1.0</td><td>0.5</td><td>1.0</td></tr>\n",
       "\t<tr><td>Fire    </td><td>1</td><td>0.5</td><td>0.5</td><td>1.0</td><td>2.0</td><td>2.0</td><td>1.0</td><td>1.0</td><td>1.0</td><td>1.0</td><td>1.0</td><td>2.0</td><td>0.5</td><td>1.0</td><td>0.5</td><td>1.0</td><td>2.0</td><td>1.0</td></tr>\n",
       "\t<tr><td>Water   </td><td>1</td><td>2.0</td><td>0.5</td><td>1.0</td><td>0.5</td><td>1.0</td><td>1.0</td><td>1.0</td><td>2.0</td><td>1.0</td><td>1.0</td><td>1.0</td><td>2.0</td><td>1.0</td><td>0.5</td><td>1.0</td><td>1.0</td><td>1.0</td></tr>\n",
       "\t<tr><td>Electric</td><td>1</td><td>1.0</td><td>2.0</td><td>0.5</td><td>0.5</td><td>1.0</td><td>1.0</td><td>1.0</td><td>0.0</td><td>2.0</td><td>1.0</td><td>1.0</td><td>1.0</td><td>1.0</td><td>0.5</td><td>1.0</td><td>1.0</td><td>1.0</td></tr>\n",
       "\t<tr><td>Grass   </td><td>1</td><td>0.5</td><td>2.0</td><td>1.0</td><td>0.5</td><td>1.0</td><td>1.0</td><td>0.5</td><td>2.0</td><td>0.5</td><td>1.0</td><td>0.5</td><td>2.0</td><td>1.0</td><td>0.5</td><td>1.0</td><td>0.5</td><td>1.0</td></tr>\n",
       "\t<tr><td>Ice     </td><td>1</td><td>0.5</td><td>0.5</td><td>1.0</td><td>2.0</td><td>0.5</td><td>1.0</td><td>1.0</td><td>2.0</td><td>2.0</td><td>1.0</td><td>1.0</td><td>1.0</td><td>1.0</td><td>2.0</td><td>1.0</td><td>0.5</td><td>1.0</td></tr>\n",
       "\t<tr><td>Fighting</td><td>2</td><td>1.0</td><td>1.0</td><td>1.0</td><td>1.0</td><td>2.0</td><td>1.0</td><td>0.5</td><td>1.0</td><td>0.5</td><td>0.5</td><td>0.5</td><td>2.0</td><td>0.0</td><td>1.0</td><td>2.0</td><td>2.0</td><td>0.5</td></tr>\n",
       "\t<tr><td>Poison  </td><td>1</td><td>1.0</td><td>1.0</td><td>1.0</td><td>2.0</td><td>1.0</td><td>1.0</td><td>0.5</td><td>0.5</td><td>1.0</td><td>1.0</td><td>1.0</td><td>0.5</td><td>0.5</td><td>1.0</td><td>1.0</td><td>0.0</td><td>2.0</td></tr>\n",
       "\t<tr><td>Ground  </td><td>1</td><td>2.0</td><td>1.0</td><td>2.0</td><td>0.5</td><td>1.0</td><td>1.0</td><td>2.0</td><td>1.0</td><td>0.0</td><td>1.0</td><td>0.5</td><td>2.0</td><td>1.0</td><td>1.0</td><td>1.0</td><td>2.0</td><td>1.0</td></tr>\n",
       "\t<tr><td>Flying  </td><td>1</td><td>1.0</td><td>1.0</td><td>0.5</td><td>2.0</td><td>1.0</td><td>2.0</td><td>1.0</td><td>1.0</td><td>1.0</td><td>1.0</td><td>2.0</td><td>0.5</td><td>1.0</td><td>1.0</td><td>1.0</td><td>0.5</td><td>1.0</td></tr>\n",
       "\t<tr><td>Psychic </td><td>1</td><td>1.0</td><td>1.0</td><td>1.0</td><td>1.0</td><td>1.0</td><td>2.0</td><td>2.0</td><td>1.0</td><td>1.0</td><td>0.5</td><td>1.0</td><td>1.0</td><td>1.0</td><td>1.0</td><td>0.0</td><td>0.5</td><td>1.0</td></tr>\n",
       "\t<tr><td>Bug     </td><td>1</td><td>0.5</td><td>1.0</td><td>1.0</td><td>2.0</td><td>1.0</td><td>0.5</td><td>0.5</td><td>1.0</td><td>0.5</td><td>2.0</td><td>1.0</td><td>1.0</td><td>0.5</td><td>1.0</td><td>2.0</td><td>0.5</td><td>0.5</td></tr>\n",
       "\t<tr><td>Rock    </td><td>1</td><td>2.0</td><td>1.0</td><td>1.0</td><td>1.0</td><td>2.0</td><td>0.5</td><td>1.0</td><td>0.5</td><td>2.0</td><td>1.0</td><td>2.0</td><td>1.0</td><td>1.0</td><td>1.0</td><td>1.0</td><td>0.5</td><td>1.0</td></tr>\n",
       "\t<tr><td>Ghost   </td><td>0</td><td>1.0</td><td>1.0</td><td>1.0</td><td>1.0</td><td>1.0</td><td>1.0</td><td>1.0</td><td>1.0</td><td>1.0</td><td>2.0</td><td>1.0</td><td>1.0</td><td>2.0</td><td>1.0</td><td>0.5</td><td>1.0</td><td>1.0</td></tr>\n",
       "\t<tr><td>Dragon  </td><td>1</td><td>1.0</td><td>1.0</td><td>1.0</td><td>1.0</td><td>1.0</td><td>1.0</td><td>1.0</td><td>1.0</td><td>1.0</td><td>1.0</td><td>1.0</td><td>1.0</td><td>1.0</td><td>2.0</td><td>1.0</td><td>0.5</td><td>0.0</td></tr>\n",
       "\t<tr><td>Dark    </td><td>1</td><td>1.0</td><td>1.0</td><td>1.0</td><td>1.0</td><td>1.0</td><td>0.5</td><td>1.0</td><td>1.0</td><td>1.0</td><td>2.0</td><td>1.0</td><td>1.0</td><td>2.0</td><td>1.0</td><td>0.5</td><td>1.0</td><td>0.5</td></tr>\n",
       "\t<tr><td>Steel   </td><td>1</td><td>0.5</td><td>0.5</td><td>0.5</td><td>1.0</td><td>2.0</td><td>1.0</td><td>1.0</td><td>1.0</td><td>1.0</td><td>1.0</td><td>1.0</td><td>2.0</td><td>1.0</td><td>1.0</td><td>1.0</td><td>0.5</td><td>2.0</td></tr>\n",
       "\t<tr><td>Fairy   </td><td>1</td><td>0.5</td><td>1.0</td><td>1.0</td><td>1.0</td><td>1.0</td><td>2.0</td><td>0.5</td><td>1.0</td><td>1.0</td><td>1.0</td><td>1.0</td><td>1.0</td><td>1.0</td><td>2.0</td><td>2.0</td><td>0.5</td><td>1.0</td></tr>\n",
       "</tbody>\n",
       "</table>\n"
      ],
      "text/latex": [
       "A data.frame: 18 × 19\n",
       "\\begin{tabular}{lllllllllllllllllll}\n",
       " Attacking & Normal & Fire & Water & Electric & Grass & Ice & Fighting & Poison & Ground & Flying & Psychic & Bug & Rock & Ghost & Dragon & Dark & Steel & Fairy\\\\\n",
       " <chr> & <int> & <dbl> & <dbl> & <dbl> & <dbl> & <dbl> & <dbl> & <dbl> & <dbl> & <dbl> & <dbl> & <dbl> & <dbl> & <dbl> & <dbl> & <dbl> & <dbl> & <dbl>\\\\\n",
       "\\hline\n",
       "\t Normal   & 1 & 1.0 & 1.0 & 1.0 & 1.0 & 1.0 & 1.0 & 1.0 & 1.0 & 1.0 & 1.0 & 1.0 & 0.5 & 0.0 & 1.0 & 1.0 & 0.5 & 1.0\\\\\n",
       "\t Fire     & 1 & 0.5 & 0.5 & 1.0 & 2.0 & 2.0 & 1.0 & 1.0 & 1.0 & 1.0 & 1.0 & 2.0 & 0.5 & 1.0 & 0.5 & 1.0 & 2.0 & 1.0\\\\\n",
       "\t Water    & 1 & 2.0 & 0.5 & 1.0 & 0.5 & 1.0 & 1.0 & 1.0 & 2.0 & 1.0 & 1.0 & 1.0 & 2.0 & 1.0 & 0.5 & 1.0 & 1.0 & 1.0\\\\\n",
       "\t Electric & 1 & 1.0 & 2.0 & 0.5 & 0.5 & 1.0 & 1.0 & 1.0 & 0.0 & 2.0 & 1.0 & 1.0 & 1.0 & 1.0 & 0.5 & 1.0 & 1.0 & 1.0\\\\\n",
       "\t Grass    & 1 & 0.5 & 2.0 & 1.0 & 0.5 & 1.0 & 1.0 & 0.5 & 2.0 & 0.5 & 1.0 & 0.5 & 2.0 & 1.0 & 0.5 & 1.0 & 0.5 & 1.0\\\\\n",
       "\t Ice      & 1 & 0.5 & 0.5 & 1.0 & 2.0 & 0.5 & 1.0 & 1.0 & 2.0 & 2.0 & 1.0 & 1.0 & 1.0 & 1.0 & 2.0 & 1.0 & 0.5 & 1.0\\\\\n",
       "\t Fighting & 2 & 1.0 & 1.0 & 1.0 & 1.0 & 2.0 & 1.0 & 0.5 & 1.0 & 0.5 & 0.5 & 0.5 & 2.0 & 0.0 & 1.0 & 2.0 & 2.0 & 0.5\\\\\n",
       "\t Poison   & 1 & 1.0 & 1.0 & 1.0 & 2.0 & 1.0 & 1.0 & 0.5 & 0.5 & 1.0 & 1.0 & 1.0 & 0.5 & 0.5 & 1.0 & 1.0 & 0.0 & 2.0\\\\\n",
       "\t Ground   & 1 & 2.0 & 1.0 & 2.0 & 0.5 & 1.0 & 1.0 & 2.0 & 1.0 & 0.0 & 1.0 & 0.5 & 2.0 & 1.0 & 1.0 & 1.0 & 2.0 & 1.0\\\\\n",
       "\t Flying   & 1 & 1.0 & 1.0 & 0.5 & 2.0 & 1.0 & 2.0 & 1.0 & 1.0 & 1.0 & 1.0 & 2.0 & 0.5 & 1.0 & 1.0 & 1.0 & 0.5 & 1.0\\\\\n",
       "\t Psychic  & 1 & 1.0 & 1.0 & 1.0 & 1.0 & 1.0 & 2.0 & 2.0 & 1.0 & 1.0 & 0.5 & 1.0 & 1.0 & 1.0 & 1.0 & 0.0 & 0.5 & 1.0\\\\\n",
       "\t Bug      & 1 & 0.5 & 1.0 & 1.0 & 2.0 & 1.0 & 0.5 & 0.5 & 1.0 & 0.5 & 2.0 & 1.0 & 1.0 & 0.5 & 1.0 & 2.0 & 0.5 & 0.5\\\\\n",
       "\t Rock     & 1 & 2.0 & 1.0 & 1.0 & 1.0 & 2.0 & 0.5 & 1.0 & 0.5 & 2.0 & 1.0 & 2.0 & 1.0 & 1.0 & 1.0 & 1.0 & 0.5 & 1.0\\\\\n",
       "\t Ghost    & 0 & 1.0 & 1.0 & 1.0 & 1.0 & 1.0 & 1.0 & 1.0 & 1.0 & 1.0 & 2.0 & 1.0 & 1.0 & 2.0 & 1.0 & 0.5 & 1.0 & 1.0\\\\\n",
       "\t Dragon   & 1 & 1.0 & 1.0 & 1.0 & 1.0 & 1.0 & 1.0 & 1.0 & 1.0 & 1.0 & 1.0 & 1.0 & 1.0 & 1.0 & 2.0 & 1.0 & 0.5 & 0.0\\\\\n",
       "\t Dark     & 1 & 1.0 & 1.0 & 1.0 & 1.0 & 1.0 & 0.5 & 1.0 & 1.0 & 1.0 & 2.0 & 1.0 & 1.0 & 2.0 & 1.0 & 0.5 & 1.0 & 0.5\\\\\n",
       "\t Steel    & 1 & 0.5 & 0.5 & 0.5 & 1.0 & 2.0 & 1.0 & 1.0 & 1.0 & 1.0 & 1.0 & 1.0 & 2.0 & 1.0 & 1.0 & 1.0 & 0.5 & 2.0\\\\\n",
       "\t Fairy    & 1 & 0.5 & 1.0 & 1.0 & 1.0 & 1.0 & 2.0 & 0.5 & 1.0 & 1.0 & 1.0 & 1.0 & 1.0 & 1.0 & 2.0 & 2.0 & 0.5 & 1.0\\\\\n",
       "\\end{tabular}\n"
      ],
      "text/markdown": [
       "\n",
       "A data.frame: 18 × 19\n",
       "\n",
       "| Attacking &lt;chr&gt; | Normal &lt;int&gt; | Fire &lt;dbl&gt; | Water &lt;dbl&gt; | Electric &lt;dbl&gt; | Grass &lt;dbl&gt; | Ice &lt;dbl&gt; | Fighting &lt;dbl&gt; | Poison &lt;dbl&gt; | Ground &lt;dbl&gt; | Flying &lt;dbl&gt; | Psychic &lt;dbl&gt; | Bug &lt;dbl&gt; | Rock &lt;dbl&gt; | Ghost &lt;dbl&gt; | Dragon &lt;dbl&gt; | Dark &lt;dbl&gt; | Steel &lt;dbl&gt; | Fairy &lt;dbl&gt; |\n",
       "|---|---|---|---|---|---|---|---|---|---|---|---|---|---|---|---|---|---|---|\n",
       "| Normal   | 1 | 1.0 | 1.0 | 1.0 | 1.0 | 1.0 | 1.0 | 1.0 | 1.0 | 1.0 | 1.0 | 1.0 | 0.5 | 0.0 | 1.0 | 1.0 | 0.5 | 1.0 |\n",
       "| Fire     | 1 | 0.5 | 0.5 | 1.0 | 2.0 | 2.0 | 1.0 | 1.0 | 1.0 | 1.0 | 1.0 | 2.0 | 0.5 | 1.0 | 0.5 | 1.0 | 2.0 | 1.0 |\n",
       "| Water    | 1 | 2.0 | 0.5 | 1.0 | 0.5 | 1.0 | 1.0 | 1.0 | 2.0 | 1.0 | 1.0 | 1.0 | 2.0 | 1.0 | 0.5 | 1.0 | 1.0 | 1.0 |\n",
       "| Electric | 1 | 1.0 | 2.0 | 0.5 | 0.5 | 1.0 | 1.0 | 1.0 | 0.0 | 2.0 | 1.0 | 1.0 | 1.0 | 1.0 | 0.5 | 1.0 | 1.0 | 1.0 |\n",
       "| Grass    | 1 | 0.5 | 2.0 | 1.0 | 0.5 | 1.0 | 1.0 | 0.5 | 2.0 | 0.5 | 1.0 | 0.5 | 2.0 | 1.0 | 0.5 | 1.0 | 0.5 | 1.0 |\n",
       "| Ice      | 1 | 0.5 | 0.5 | 1.0 | 2.0 | 0.5 | 1.0 | 1.0 | 2.0 | 2.0 | 1.0 | 1.0 | 1.0 | 1.0 | 2.0 | 1.0 | 0.5 | 1.0 |\n",
       "| Fighting | 2 | 1.0 | 1.0 | 1.0 | 1.0 | 2.0 | 1.0 | 0.5 | 1.0 | 0.5 | 0.5 | 0.5 | 2.0 | 0.0 | 1.0 | 2.0 | 2.0 | 0.5 |\n",
       "| Poison   | 1 | 1.0 | 1.0 | 1.0 | 2.0 | 1.0 | 1.0 | 0.5 | 0.5 | 1.0 | 1.0 | 1.0 | 0.5 | 0.5 | 1.0 | 1.0 | 0.0 | 2.0 |\n",
       "| Ground   | 1 | 2.0 | 1.0 | 2.0 | 0.5 | 1.0 | 1.0 | 2.0 | 1.0 | 0.0 | 1.0 | 0.5 | 2.0 | 1.0 | 1.0 | 1.0 | 2.0 | 1.0 |\n",
       "| Flying   | 1 | 1.0 | 1.0 | 0.5 | 2.0 | 1.0 | 2.0 | 1.0 | 1.0 | 1.0 | 1.0 | 2.0 | 0.5 | 1.0 | 1.0 | 1.0 | 0.5 | 1.0 |\n",
       "| Psychic  | 1 | 1.0 | 1.0 | 1.0 | 1.0 | 1.0 | 2.0 | 2.0 | 1.0 | 1.0 | 0.5 | 1.0 | 1.0 | 1.0 | 1.0 | 0.0 | 0.5 | 1.0 |\n",
       "| Bug      | 1 | 0.5 | 1.0 | 1.0 | 2.0 | 1.0 | 0.5 | 0.5 | 1.0 | 0.5 | 2.0 | 1.0 | 1.0 | 0.5 | 1.0 | 2.0 | 0.5 | 0.5 |\n",
       "| Rock     | 1 | 2.0 | 1.0 | 1.0 | 1.0 | 2.0 | 0.5 | 1.0 | 0.5 | 2.0 | 1.0 | 2.0 | 1.0 | 1.0 | 1.0 | 1.0 | 0.5 | 1.0 |\n",
       "| Ghost    | 0 | 1.0 | 1.0 | 1.0 | 1.0 | 1.0 | 1.0 | 1.0 | 1.0 | 1.0 | 2.0 | 1.0 | 1.0 | 2.0 | 1.0 | 0.5 | 1.0 | 1.0 |\n",
       "| Dragon   | 1 | 1.0 | 1.0 | 1.0 | 1.0 | 1.0 | 1.0 | 1.0 | 1.0 | 1.0 | 1.0 | 1.0 | 1.0 | 1.0 | 2.0 | 1.0 | 0.5 | 0.0 |\n",
       "| Dark     | 1 | 1.0 | 1.0 | 1.0 | 1.0 | 1.0 | 0.5 | 1.0 | 1.0 | 1.0 | 2.0 | 1.0 | 1.0 | 2.0 | 1.0 | 0.5 | 1.0 | 0.5 |\n",
       "| Steel    | 1 | 0.5 | 0.5 | 0.5 | 1.0 | 2.0 | 1.0 | 1.0 | 1.0 | 1.0 | 1.0 | 1.0 | 2.0 | 1.0 | 1.0 | 1.0 | 0.5 | 2.0 |\n",
       "| Fairy    | 1 | 0.5 | 1.0 | 1.0 | 1.0 | 1.0 | 2.0 | 0.5 | 1.0 | 1.0 | 1.0 | 1.0 | 1.0 | 1.0 | 2.0 | 2.0 | 0.5 | 1.0 |\n",
       "\n"
      ],
      "text/plain": [
       "   Attacking Normal Fire Water Electric Grass Ice Fighting Poison Ground Flying\n",
       "1  Normal    1      1.0  1.0   1.0      1.0   1.0 1.0      1.0    1.0    1.0   \n",
       "2  Fire      1      0.5  0.5   1.0      2.0   2.0 1.0      1.0    1.0    1.0   \n",
       "3  Water     1      2.0  0.5   1.0      0.5   1.0 1.0      1.0    2.0    1.0   \n",
       "4  Electric  1      1.0  2.0   0.5      0.5   1.0 1.0      1.0    0.0    2.0   \n",
       "5  Grass     1      0.5  2.0   1.0      0.5   1.0 1.0      0.5    2.0    0.5   \n",
       "6  Ice       1      0.5  0.5   1.0      2.0   0.5 1.0      1.0    2.0    2.0   \n",
       "7  Fighting  2      1.0  1.0   1.0      1.0   2.0 1.0      0.5    1.0    0.5   \n",
       "8  Poison    1      1.0  1.0   1.0      2.0   1.0 1.0      0.5    0.5    1.0   \n",
       "9  Ground    1      2.0  1.0   2.0      0.5   1.0 1.0      2.0    1.0    0.0   \n",
       "10 Flying    1      1.0  1.0   0.5      2.0   1.0 2.0      1.0    1.0    1.0   \n",
       "11 Psychic   1      1.0  1.0   1.0      1.0   1.0 2.0      2.0    1.0    1.0   \n",
       "12 Bug       1      0.5  1.0   1.0      2.0   1.0 0.5      0.5    1.0    0.5   \n",
       "13 Rock      1      2.0  1.0   1.0      1.0   2.0 0.5      1.0    0.5    2.0   \n",
       "14 Ghost     0      1.0  1.0   1.0      1.0   1.0 1.0      1.0    1.0    1.0   \n",
       "15 Dragon    1      1.0  1.0   1.0      1.0   1.0 1.0      1.0    1.0    1.0   \n",
       "16 Dark      1      1.0  1.0   1.0      1.0   1.0 0.5      1.0    1.0    1.0   \n",
       "17 Steel     1      0.5  0.5   0.5      1.0   2.0 1.0      1.0    1.0    1.0   \n",
       "18 Fairy     1      0.5  1.0   1.0      1.0   1.0 2.0      0.5    1.0    1.0   \n",
       "   Psychic Bug Rock Ghost Dragon Dark Steel Fairy\n",
       "1  1.0     1.0 0.5  0.0   1.0    1.0  0.5   1.0  \n",
       "2  1.0     2.0 0.5  1.0   0.5    1.0  2.0   1.0  \n",
       "3  1.0     1.0 2.0  1.0   0.5    1.0  1.0   1.0  \n",
       "4  1.0     1.0 1.0  1.0   0.5    1.0  1.0   1.0  \n",
       "5  1.0     0.5 2.0  1.0   0.5    1.0  0.5   1.0  \n",
       "6  1.0     1.0 1.0  1.0   2.0    1.0  0.5   1.0  \n",
       "7  0.5     0.5 2.0  0.0   1.0    2.0  2.0   0.5  \n",
       "8  1.0     1.0 0.5  0.5   1.0    1.0  0.0   2.0  \n",
       "9  1.0     0.5 2.0  1.0   1.0    1.0  2.0   1.0  \n",
       "10 1.0     2.0 0.5  1.0   1.0    1.0  0.5   1.0  \n",
       "11 0.5     1.0 1.0  1.0   1.0    0.0  0.5   1.0  \n",
       "12 2.0     1.0 1.0  0.5   1.0    2.0  0.5   0.5  \n",
       "13 1.0     2.0 1.0  1.0   1.0    1.0  0.5   1.0  \n",
       "14 2.0     1.0 1.0  2.0   1.0    0.5  1.0   1.0  \n",
       "15 1.0     1.0 1.0  1.0   2.0    1.0  0.5   0.0  \n",
       "16 2.0     1.0 1.0  2.0   1.0    0.5  1.0   0.5  \n",
       "17 1.0     1.0 2.0  1.0   1.0    1.0  0.5   2.0  \n",
       "18 1.0     1.0 1.0  1.0   2.0    2.0  0.5   1.0  "
      ]
     },
     "metadata": {},
     "output_type": "display_data"
    }
   ],
   "source": [
    "chart <- read.csv('~/Desktop/yjtek.github.io/data/2019-12-16-reproduced-best-pokemon-team/chart.csv')\n",
    "chart"
   ]
  },
  {
   "cell_type": "markdown",
   "metadata": {},
   "source": [
    "### Basic analysis\n",
    "\n",
    "We can already draw some basic aggregate conclusions about the most useful types by maximising the attack dealt and minimising the attack received. Remember that the baseline for both scores is 18 (i.e. you deal normal damage to all other types, and take normal damage from all other types). "
   ]
  },
  {
   "cell_type": "code",
   "execution_count": 38,
   "metadata": {},
   "outputs": [
    {
     "data": {
      "text/html": [
       "<table>\n",
       "<caption>A data.frame: 18 × 3</caption>\n",
       "<thead>\n",
       "\t<tr><th scope=col>Type</th><th scope=col>Attack Dealt</th><th scope=col>Attack Received</th></tr>\n",
       "\t<tr><th scope=col>&lt;chr&gt;</th><th scope=col>&lt;dbl&gt;</th><th scope=col>&lt;dbl&gt;</th></tr>\n",
       "</thead>\n",
       "<tbody>\n",
       "\t<tr><td>Normal  </td><td>16.0</td><td>18.0</td></tr>\n",
       "\t<tr><td>Fire    </td><td>20.0</td><td>18.0</td></tr>\n",
       "\t<tr><td>Water   </td><td>19.5</td><td>18.0</td></tr>\n",
       "\t<tr><td>Electric</td><td>17.5</td><td>17.5</td></tr>\n",
       "\t<tr><td>Grass   </td><td>17.5</td><td>21.0</td></tr>\n",
       "\t<tr><td>Ice     </td><td>20.0</td><td>21.5</td></tr>\n",
       "\t<tr><td>Fighting</td><td>19.5</td><td>19.5</td></tr>\n",
       "\t<tr><td>Poison  </td><td>17.0</td><td>17.5</td></tr>\n",
       "\t<tr><td>Ground  </td><td>21.0</td><td>19.0</td></tr>\n",
       "\t<tr><td>Flying  </td><td>19.5</td><td>18.5</td></tr>\n",
       "\t<tr><td>Psychic </td><td>18.0</td><td>20.0</td></tr>\n",
       "\t<tr><td>Bug     </td><td>17.5</td><td>19.5</td></tr>\n",
       "\t<tr><td>Rock    </td><td>20.5</td><td>21.0</td></tr>\n",
       "\t<tr><td>Ghost   </td><td>18.5</td><td>17.0</td></tr>\n",
       "\t<tr><td>Dragon  </td><td>17.5</td><td>19.0</td></tr>\n",
       "\t<tr><td>Dark    </td><td>18.5</td><td>19.0</td></tr>\n",
       "\t<tr><td>Steel   </td><td>19.0</td><td>15.0</td></tr>\n",
       "\t<tr><td>Fairy   </td><td>19.5</td><td>17.5</td></tr>\n",
       "</tbody>\n",
       "</table>\n"
      ],
      "text/latex": [
       "A data.frame: 18 × 3\n",
       "\\begin{tabular}{lll}\n",
       " Type & Attack Dealt & Attack Received\\\\\n",
       " <chr> & <dbl> & <dbl>\\\\\n",
       "\\hline\n",
       "\t Normal   & 16.0 & 18.0\\\\\n",
       "\t Fire     & 20.0 & 18.0\\\\\n",
       "\t Water    & 19.5 & 18.0\\\\\n",
       "\t Electric & 17.5 & 17.5\\\\\n",
       "\t Grass    & 17.5 & 21.0\\\\\n",
       "\t Ice      & 20.0 & 21.5\\\\\n",
       "\t Fighting & 19.5 & 19.5\\\\\n",
       "\t Poison   & 17.0 & 17.5\\\\\n",
       "\t Ground   & 21.0 & 19.0\\\\\n",
       "\t Flying   & 19.5 & 18.5\\\\\n",
       "\t Psychic  & 18.0 & 20.0\\\\\n",
       "\t Bug      & 17.5 & 19.5\\\\\n",
       "\t Rock     & 20.5 & 21.0\\\\\n",
       "\t Ghost    & 18.5 & 17.0\\\\\n",
       "\t Dragon   & 17.5 & 19.0\\\\\n",
       "\t Dark     & 18.5 & 19.0\\\\\n",
       "\t Steel    & 19.0 & 15.0\\\\\n",
       "\t Fairy    & 19.5 & 17.5\\\\\n",
       "\\end{tabular}\n"
      ],
      "text/markdown": [
       "\n",
       "A data.frame: 18 × 3\n",
       "\n",
       "| Type &lt;chr&gt; | Attack Dealt &lt;dbl&gt; | Attack Received &lt;dbl&gt; |\n",
       "|---|---|---|\n",
       "| Normal   | 16.0 | 18.0 |\n",
       "| Fire     | 20.0 | 18.0 |\n",
       "| Water    | 19.5 | 18.0 |\n",
       "| Electric | 17.5 | 17.5 |\n",
       "| Grass    | 17.5 | 21.0 |\n",
       "| Ice      | 20.0 | 21.5 |\n",
       "| Fighting | 19.5 | 19.5 |\n",
       "| Poison   | 17.0 | 17.5 |\n",
       "| Ground   | 21.0 | 19.0 |\n",
       "| Flying   | 19.5 | 18.5 |\n",
       "| Psychic  | 18.0 | 20.0 |\n",
       "| Bug      | 17.5 | 19.5 |\n",
       "| Rock     | 20.5 | 21.0 |\n",
       "| Ghost    | 18.5 | 17.0 |\n",
       "| Dragon   | 17.5 | 19.0 |\n",
       "| Dark     | 18.5 | 19.0 |\n",
       "| Steel    | 19.0 | 15.0 |\n",
       "| Fairy    | 19.5 | 17.5 |\n",
       "\n"
      ],
      "text/plain": [
       "   Type     Attack Dealt Attack Received\n",
       "1  Normal   16.0         18.0           \n",
       "2  Fire     20.0         18.0           \n",
       "3  Water    19.5         18.0           \n",
       "4  Electric 17.5         17.5           \n",
       "5  Grass    17.5         21.0           \n",
       "6  Ice      20.0         21.5           \n",
       "7  Fighting 19.5         19.5           \n",
       "8  Poison   17.0         17.5           \n",
       "9  Ground   21.0         19.0           \n",
       "10 Flying   19.5         18.5           \n",
       "11 Psychic  18.0         20.0           \n",
       "12 Bug      17.5         19.5           \n",
       "13 Rock     20.5         21.0           \n",
       "14 Ghost    18.5         17.0           \n",
       "15 Dragon   17.5         19.0           \n",
       "16 Dark     18.5         19.0           \n",
       "17 Steel    19.0         15.0           \n",
       "18 Fairy    19.5         17.5           "
      ]
     },
     "metadata": {},
     "output_type": "display_data"
    }
   ],
   "source": [
    "mostUsefulAttack <- data.frame(type = chart$Attacking, `Attack Dealt` = rowSums(chart[,2:ncol(chart)]))\n",
    "mostUsefulDefence <- data.frame(type = colnames(chart)[2:ncol(chart)], `Attack Received` = colSums(chart[, 2:ncol(chart)]))\n",
    "mostUseful <- mostUsefulAttack %>% left_join(mostUsefulDefence, by = 'type') %>% `colnames<-`(c('Type', 'Attack Dealt', 'Attack Received'))\n",
    "mostUseful"
   ]
  },
  {
   "cell_type": "markdown",
   "metadata": {},
   "source": [
    "A cursory analysis will already tell us which types are most useful. If we are willing to ignore the distribution of the scores, we can simply find all types where attack dealt exceeds the baseline, and the attack received is below the baseline."
   ]
  },
  {
   "cell_type": "code",
   "execution_count": 40,
   "metadata": {},
   "outputs": [
    {
     "data": {
      "text/html": [
       "<table>\n",
       "<caption>A data.frame: 5 × 3</caption>\n",
       "<thead>\n",
       "\t<tr><th scope=col>Type</th><th scope=col>Attack Dealt</th><th scope=col>Attack Received</th></tr>\n",
       "\t<tr><th scope=col>&lt;chr&gt;</th><th scope=col>&lt;dbl&gt;</th><th scope=col>&lt;dbl&gt;</th></tr>\n",
       "</thead>\n",
       "<tbody>\n",
       "\t<tr><td>Fire </td><td>20.0</td><td>18.0</td></tr>\n",
       "\t<tr><td>Water</td><td>19.5</td><td>18.0</td></tr>\n",
       "\t<tr><td>Ghost</td><td>18.5</td><td>17.0</td></tr>\n",
       "\t<tr><td>Steel</td><td>19.0</td><td>15.0</td></tr>\n",
       "\t<tr><td>Fairy</td><td>19.5</td><td>17.5</td></tr>\n",
       "</tbody>\n",
       "</table>\n"
      ],
      "text/latex": [
       "A data.frame: 5 × 3\n",
       "\\begin{tabular}{lll}\n",
       " Type & Attack Dealt & Attack Received\\\\\n",
       " <chr> & <dbl> & <dbl>\\\\\n",
       "\\hline\n",
       "\t Fire  & 20.0 & 18.0\\\\\n",
       "\t Water & 19.5 & 18.0\\\\\n",
       "\t Ghost & 18.5 & 17.0\\\\\n",
       "\t Steel & 19.0 & 15.0\\\\\n",
       "\t Fairy & 19.5 & 17.5\\\\\n",
       "\\end{tabular}\n"
      ],
      "text/markdown": [
       "\n",
       "A data.frame: 5 × 3\n",
       "\n",
       "| Type &lt;chr&gt; | Attack Dealt &lt;dbl&gt; | Attack Received &lt;dbl&gt; |\n",
       "|---|---|---|\n",
       "| Fire  | 20.0 | 18.0 |\n",
       "| Water | 19.5 | 18.0 |\n",
       "| Ghost | 18.5 | 17.0 |\n",
       "| Steel | 19.0 | 15.0 |\n",
       "| Fairy | 19.5 | 17.5 |\n",
       "\n"
      ],
      "text/plain": [
       "  Type  Attack Dealt Attack Received\n",
       "1 Fire  20.0         18.0           \n",
       "2 Water 19.5         18.0           \n",
       "3 Ghost 18.5         17.0           \n",
       "4 Steel 19.0         15.0           \n",
       "5 Fairy 19.5         17.5           "
      ]
     },
     "metadata": {},
     "output_type": "display_data"
    }
   ],
   "source": [
    "mostUseful %>%\n",
    "  filter(`Attack Dealt` >= 18 & `Attack Received` <= 18)"
   ]
  },
  {
   "cell_type": "markdown",
   "metadata": {},
   "source": [
    "### Maximising super-effectiveness\n",
    "\n",
    "As marvellous as that sounds, we clearly don't fight pokemon in some weird aggregated group fight. Pokemon fights are a 1v1 affair, and it follows that the analysis should be conducted at the type pair level. We sharpen the granularity of the analysis to see which types provide the most \"super effective\" attacks."
   ]
  },
  {
   "cell_type": "code",
   "execution_count": 44,
   "metadata": {},
   "outputs": [
    {
     "name": "stderr",
     "output_type": "stream",
     "text": [
      "`summarise()` ungrouping output (override with `.groups` argument)\n",
      "\n"
     ]
    },
    {
     "data": {
      "text/html": [
       "<table>\n",
       "<caption>A tibble: 18 × 2</caption>\n",
       "<thead>\n",
       "\t<tr><th scope=col>Attacking</th><th scope=col>Count Attack Super Effective</th></tr>\n",
       "\t<tr><th scope=col>&lt;chr&gt;</th><th scope=col>&lt;dbl&gt;</th></tr>\n",
       "</thead>\n",
       "<tbody>\n",
       "\t<tr><td>Fighting</td><td>5</td></tr>\n",
       "\t<tr><td>Ground  </td><td>5</td></tr>\n",
       "\t<tr><td>Fire    </td><td>4</td></tr>\n",
       "\t<tr><td>Ice     </td><td>4</td></tr>\n",
       "\t<tr><td>Rock    </td><td>4</td></tr>\n",
       "\t<tr><td>Bug     </td><td>3</td></tr>\n",
       "\t<tr><td>Fairy   </td><td>3</td></tr>\n",
       "\t<tr><td>Flying  </td><td>3</td></tr>\n",
       "\t<tr><td>Grass   </td><td>3</td></tr>\n",
       "\t<tr><td>Steel   </td><td>3</td></tr>\n",
       "\t<tr><td>Water   </td><td>3</td></tr>\n",
       "\t<tr><td>Dark    </td><td>2</td></tr>\n",
       "\t<tr><td>Electric</td><td>2</td></tr>\n",
       "\t<tr><td>Ghost   </td><td>2</td></tr>\n",
       "\t<tr><td>Poison  </td><td>2</td></tr>\n",
       "\t<tr><td>Psychic </td><td>2</td></tr>\n",
       "\t<tr><td>Dragon  </td><td>1</td></tr>\n",
       "\t<tr><td>Normal  </td><td>0</td></tr>\n",
       "</tbody>\n",
       "</table>\n"
      ],
      "text/latex": [
       "A tibble: 18 × 2\n",
       "\\begin{tabular}{ll}\n",
       " Attacking & Count Attack Super Effective\\\\\n",
       " <chr> & <dbl>\\\\\n",
       "\\hline\n",
       "\t Fighting & 5\\\\\n",
       "\t Ground   & 5\\\\\n",
       "\t Fire     & 4\\\\\n",
       "\t Ice      & 4\\\\\n",
       "\t Rock     & 4\\\\\n",
       "\t Bug      & 3\\\\\n",
       "\t Fairy    & 3\\\\\n",
       "\t Flying   & 3\\\\\n",
       "\t Grass    & 3\\\\\n",
       "\t Steel    & 3\\\\\n",
       "\t Water    & 3\\\\\n",
       "\t Dark     & 2\\\\\n",
       "\t Electric & 2\\\\\n",
       "\t Ghost    & 2\\\\\n",
       "\t Poison   & 2\\\\\n",
       "\t Psychic  & 2\\\\\n",
       "\t Dragon   & 1\\\\\n",
       "\t Normal   & 0\\\\\n",
       "\\end{tabular}\n"
      ],
      "text/markdown": [
       "\n",
       "A tibble: 18 × 2\n",
       "\n",
       "| Attacking &lt;chr&gt; | Count Attack Super Effective &lt;dbl&gt; |\n",
       "|---|---|\n",
       "| Fighting | 5 |\n",
       "| Ground   | 5 |\n",
       "| Fire     | 4 |\n",
       "| Ice      | 4 |\n",
       "| Rock     | 4 |\n",
       "| Bug      | 3 |\n",
       "| Fairy    | 3 |\n",
       "| Flying   | 3 |\n",
       "| Grass    | 3 |\n",
       "| Steel    | 3 |\n",
       "| Water    | 3 |\n",
       "| Dark     | 2 |\n",
       "| Electric | 2 |\n",
       "| Ghost    | 2 |\n",
       "| Poison   | 2 |\n",
       "| Psychic  | 2 |\n",
       "| Dragon   | 1 |\n",
       "| Normal   | 0 |\n",
       "\n"
      ],
      "text/plain": [
       "   Attacking Count Attack Super Effective\n",
       "1  Fighting  5                           \n",
       "2  Ground    5                           \n",
       "3  Fire      4                           \n",
       "4  Ice       4                           \n",
       "5  Rock      4                           \n",
       "6  Bug       3                           \n",
       "7  Fairy     3                           \n",
       "8  Flying    3                           \n",
       "9  Grass     3                           \n",
       "10 Steel     3                           \n",
       "11 Water     3                           \n",
       "12 Dark      2                           \n",
       "13 Electric  2                           \n",
       "14 Ghost     2                           \n",
       "15 Poison    2                           \n",
       "16 Psychic   2                           \n",
       "17 Dragon    1                           \n",
       "18 Normal    0                           "
      ]
     },
     "metadata": {},
     "output_type": "display_data"
    }
   ],
   "source": [
    "chartLong <- chart %>%\n",
    "  pivot_longer(-Attacking, names_to = 'Defending', values_to = 'Attack Effectiveness') %>%\n",
    "  mutate(`Attack Effectiveness` = if_else(`Attack Effectiveness` == 2, 1, 0)) %>%\n",
    "  group_by(Attacking) %>%\n",
    "  summarise(`Count Attack Super Effective` = sum(`Attack Effectiveness`)) %>%\n",
    "  arrange(desc(`Count Attack Super Effective`))\n",
    "chartLong"
   ]
  },
  {
   "cell_type": "markdown",
   "metadata": {},
   "source": [
    "To form the best combination of 6, and lacking some sort of prior about what that combination should be, we rely on good old fashioned brute forcing. Using `combn()`, we get a dataframe where every column is 1 combination. Using the base dataframe, we change the values such that super effective attacks are reflected as 1s in the matrix, and everything else is reflected as 0."
   ]
  },
  {
   "cell_type": "code",
   "execution_count": 62,
   "metadata": {},
   "outputs": [
    {
     "data": {
      "text/html": [
       "<table>\n",
       "<caption>A matrix: 18 × 18 of type int</caption>\n",
       "<thead>\n",
       "\t<tr><th></th><th scope=col>Normal</th><th scope=col>Fire</th><th scope=col>Water</th><th scope=col>Electric</th><th scope=col>Grass</th><th scope=col>Ice</th><th scope=col>Fighting</th><th scope=col>Poison</th><th scope=col>Ground</th><th scope=col>Flying</th><th scope=col>Psychic</th><th scope=col>Bug</th><th scope=col>Rock</th><th scope=col>Ghost</th><th scope=col>Dragon</th><th scope=col>Dark</th><th scope=col>Steel</th><th scope=col>Fairy</th></tr>\n",
       "</thead>\n",
       "<tbody>\n",
       "\t<tr><th scope=row>Normal</th><td>0</td><td>0</td><td>0</td><td>0</td><td>0</td><td>0</td><td>0</td><td>0</td><td>0</td><td>0</td><td>0</td><td>0</td><td>0</td><td>0</td><td>0</td><td>0</td><td>0</td><td>0</td></tr>\n",
       "\t<tr><th scope=row>Fire</th><td>0</td><td>0</td><td>0</td><td>0</td><td>1</td><td>1</td><td>0</td><td>0</td><td>0</td><td>0</td><td>0</td><td>1</td><td>0</td><td>0</td><td>0</td><td>0</td><td>1</td><td>0</td></tr>\n",
       "\t<tr><th scope=row>Water</th><td>0</td><td>1</td><td>0</td><td>0</td><td>0</td><td>0</td><td>0</td><td>0</td><td>1</td><td>0</td><td>0</td><td>0</td><td>1</td><td>0</td><td>0</td><td>0</td><td>0</td><td>0</td></tr>\n",
       "\t<tr><th scope=row>Electric</th><td>0</td><td>0</td><td>1</td><td>0</td><td>0</td><td>0</td><td>0</td><td>0</td><td>0</td><td>1</td><td>0</td><td>0</td><td>0</td><td>0</td><td>0</td><td>0</td><td>0</td><td>0</td></tr>\n",
       "\t<tr><th scope=row>Grass</th><td>0</td><td>0</td><td>1</td><td>0</td><td>0</td><td>0</td><td>0</td><td>0</td><td>1</td><td>0</td><td>0</td><td>0</td><td>1</td><td>0</td><td>0</td><td>0</td><td>0</td><td>0</td></tr>\n",
       "\t<tr><th scope=row>Ice</th><td>0</td><td>0</td><td>0</td><td>0</td><td>1</td><td>0</td><td>0</td><td>0</td><td>1</td><td>1</td><td>0</td><td>0</td><td>0</td><td>0</td><td>1</td><td>0</td><td>0</td><td>0</td></tr>\n",
       "\t<tr><th scope=row>Fighting</th><td>1</td><td>0</td><td>0</td><td>0</td><td>0</td><td>1</td><td>0</td><td>0</td><td>0</td><td>0</td><td>0</td><td>0</td><td>1</td><td>0</td><td>0</td><td>1</td><td>1</td><td>0</td></tr>\n",
       "\t<tr><th scope=row>Poison</th><td>0</td><td>0</td><td>0</td><td>0</td><td>1</td><td>0</td><td>0</td><td>0</td><td>0</td><td>0</td><td>0</td><td>0</td><td>0</td><td>0</td><td>0</td><td>0</td><td>0</td><td>1</td></tr>\n",
       "\t<tr><th scope=row>Ground</th><td>0</td><td>1</td><td>0</td><td>1</td><td>0</td><td>0</td><td>0</td><td>1</td><td>0</td><td>0</td><td>0</td><td>0</td><td>1</td><td>0</td><td>0</td><td>0</td><td>1</td><td>0</td></tr>\n",
       "\t<tr><th scope=row>Flying</th><td>0</td><td>0</td><td>0</td><td>0</td><td>1</td><td>0</td><td>1</td><td>0</td><td>0</td><td>0</td><td>0</td><td>1</td><td>0</td><td>0</td><td>0</td><td>0</td><td>0</td><td>0</td></tr>\n",
       "\t<tr><th scope=row>Psychic</th><td>0</td><td>0</td><td>0</td><td>0</td><td>0</td><td>0</td><td>1</td><td>1</td><td>0</td><td>0</td><td>0</td><td>0</td><td>0</td><td>0</td><td>0</td><td>0</td><td>0</td><td>0</td></tr>\n",
       "\t<tr><th scope=row>Bug</th><td>0</td><td>0</td><td>0</td><td>0</td><td>1</td><td>0</td><td>0</td><td>0</td><td>0</td><td>0</td><td>1</td><td>0</td><td>0</td><td>0</td><td>0</td><td>1</td><td>0</td><td>0</td></tr>\n",
       "\t<tr><th scope=row>Rock</th><td>0</td><td>1</td><td>0</td><td>0</td><td>0</td><td>1</td><td>0</td><td>0</td><td>0</td><td>1</td><td>0</td><td>1</td><td>0</td><td>0</td><td>0</td><td>0</td><td>0</td><td>0</td></tr>\n",
       "\t<tr><th scope=row>Ghost</th><td>0</td><td>0</td><td>0</td><td>0</td><td>0</td><td>0</td><td>0</td><td>0</td><td>0</td><td>0</td><td>1</td><td>0</td><td>0</td><td>1</td><td>0</td><td>0</td><td>0</td><td>0</td></tr>\n",
       "\t<tr><th scope=row>Dragon</th><td>0</td><td>0</td><td>0</td><td>0</td><td>0</td><td>0</td><td>0</td><td>0</td><td>0</td><td>0</td><td>0</td><td>0</td><td>0</td><td>0</td><td>1</td><td>0</td><td>0</td><td>0</td></tr>\n",
       "\t<tr><th scope=row>Dark</th><td>0</td><td>0</td><td>0</td><td>0</td><td>0</td><td>0</td><td>0</td><td>0</td><td>0</td><td>0</td><td>1</td><td>0</td><td>0</td><td>1</td><td>0</td><td>0</td><td>0</td><td>0</td></tr>\n",
       "\t<tr><th scope=row>Steel</th><td>0</td><td>0</td><td>0</td><td>0</td><td>0</td><td>1</td><td>0</td><td>0</td><td>0</td><td>0</td><td>0</td><td>0</td><td>1</td><td>0</td><td>0</td><td>0</td><td>0</td><td>1</td></tr>\n",
       "\t<tr><th scope=row>Fairy</th><td>0</td><td>0</td><td>0</td><td>0</td><td>0</td><td>0</td><td>1</td><td>0</td><td>0</td><td>0</td><td>0</td><td>0</td><td>0</td><td>0</td><td>1</td><td>1</td><td>0</td><td>0</td></tr>\n",
       "</tbody>\n",
       "</table>\n"
      ],
      "text/latex": [
       "A matrix: 18 × 18 of type int\n",
       "\\begin{tabular}{r|llllllllllllllllll}\n",
       "  & Normal & Fire & Water & Electric & Grass & Ice & Fighting & Poison & Ground & Flying & Psychic & Bug & Rock & Ghost & Dragon & Dark & Steel & Fairy\\\\\n",
       "\\hline\n",
       "\tNormal & 0 & 0 & 0 & 0 & 0 & 0 & 0 & 0 & 0 & 0 & 0 & 0 & 0 & 0 & 0 & 0 & 0 & 0\\\\\n",
       "\tFire & 0 & 0 & 0 & 0 & 1 & 1 & 0 & 0 & 0 & 0 & 0 & 1 & 0 & 0 & 0 & 0 & 1 & 0\\\\\n",
       "\tWater & 0 & 1 & 0 & 0 & 0 & 0 & 0 & 0 & 1 & 0 & 0 & 0 & 1 & 0 & 0 & 0 & 0 & 0\\\\\n",
       "\tElectric & 0 & 0 & 1 & 0 & 0 & 0 & 0 & 0 & 0 & 1 & 0 & 0 & 0 & 0 & 0 & 0 & 0 & 0\\\\\n",
       "\tGrass & 0 & 0 & 1 & 0 & 0 & 0 & 0 & 0 & 1 & 0 & 0 & 0 & 1 & 0 & 0 & 0 & 0 & 0\\\\\n",
       "\tIce & 0 & 0 & 0 & 0 & 1 & 0 & 0 & 0 & 1 & 1 & 0 & 0 & 0 & 0 & 1 & 0 & 0 & 0\\\\\n",
       "\tFighting & 1 & 0 & 0 & 0 & 0 & 1 & 0 & 0 & 0 & 0 & 0 & 0 & 1 & 0 & 0 & 1 & 1 & 0\\\\\n",
       "\tPoison & 0 & 0 & 0 & 0 & 1 & 0 & 0 & 0 & 0 & 0 & 0 & 0 & 0 & 0 & 0 & 0 & 0 & 1\\\\\n",
       "\tGround & 0 & 1 & 0 & 1 & 0 & 0 & 0 & 1 & 0 & 0 & 0 & 0 & 1 & 0 & 0 & 0 & 1 & 0\\\\\n",
       "\tFlying & 0 & 0 & 0 & 0 & 1 & 0 & 1 & 0 & 0 & 0 & 0 & 1 & 0 & 0 & 0 & 0 & 0 & 0\\\\\n",
       "\tPsychic & 0 & 0 & 0 & 0 & 0 & 0 & 1 & 1 & 0 & 0 & 0 & 0 & 0 & 0 & 0 & 0 & 0 & 0\\\\\n",
       "\tBug & 0 & 0 & 0 & 0 & 1 & 0 & 0 & 0 & 0 & 0 & 1 & 0 & 0 & 0 & 0 & 1 & 0 & 0\\\\\n",
       "\tRock & 0 & 1 & 0 & 0 & 0 & 1 & 0 & 0 & 0 & 1 & 0 & 1 & 0 & 0 & 0 & 0 & 0 & 0\\\\\n",
       "\tGhost & 0 & 0 & 0 & 0 & 0 & 0 & 0 & 0 & 0 & 0 & 1 & 0 & 0 & 1 & 0 & 0 & 0 & 0\\\\\n",
       "\tDragon & 0 & 0 & 0 & 0 & 0 & 0 & 0 & 0 & 0 & 0 & 0 & 0 & 0 & 0 & 1 & 0 & 0 & 0\\\\\n",
       "\tDark & 0 & 0 & 0 & 0 & 0 & 0 & 0 & 0 & 0 & 0 & 1 & 0 & 0 & 1 & 0 & 0 & 0 & 0\\\\\n",
       "\tSteel & 0 & 0 & 0 & 0 & 0 & 1 & 0 & 0 & 0 & 0 & 0 & 0 & 1 & 0 & 0 & 0 & 0 & 1\\\\\n",
       "\tFairy & 0 & 0 & 0 & 0 & 0 & 0 & 1 & 0 & 0 & 0 & 0 & 0 & 0 & 0 & 1 & 1 & 0 & 0\\\\\n",
       "\\end{tabular}\n"
      ],
      "text/markdown": [
       "\n",
       "A matrix: 18 × 18 of type int\n",
       "\n",
       "| <!--/--> | Normal | Fire | Water | Electric | Grass | Ice | Fighting | Poison | Ground | Flying | Psychic | Bug | Rock | Ghost | Dragon | Dark | Steel | Fairy |\n",
       "|---|---|---|---|---|---|---|---|---|---|---|---|---|---|---|---|---|---|---|\n",
       "| Normal | 0 | 0 | 0 | 0 | 0 | 0 | 0 | 0 | 0 | 0 | 0 | 0 | 0 | 0 | 0 | 0 | 0 | 0 |\n",
       "| Fire | 0 | 0 | 0 | 0 | 1 | 1 | 0 | 0 | 0 | 0 | 0 | 1 | 0 | 0 | 0 | 0 | 1 | 0 |\n",
       "| Water | 0 | 1 | 0 | 0 | 0 | 0 | 0 | 0 | 1 | 0 | 0 | 0 | 1 | 0 | 0 | 0 | 0 | 0 |\n",
       "| Electric | 0 | 0 | 1 | 0 | 0 | 0 | 0 | 0 | 0 | 1 | 0 | 0 | 0 | 0 | 0 | 0 | 0 | 0 |\n",
       "| Grass | 0 | 0 | 1 | 0 | 0 | 0 | 0 | 0 | 1 | 0 | 0 | 0 | 1 | 0 | 0 | 0 | 0 | 0 |\n",
       "| Ice | 0 | 0 | 0 | 0 | 1 | 0 | 0 | 0 | 1 | 1 | 0 | 0 | 0 | 0 | 1 | 0 | 0 | 0 |\n",
       "| Fighting | 1 | 0 | 0 | 0 | 0 | 1 | 0 | 0 | 0 | 0 | 0 | 0 | 1 | 0 | 0 | 1 | 1 | 0 |\n",
       "| Poison | 0 | 0 | 0 | 0 | 1 | 0 | 0 | 0 | 0 | 0 | 0 | 0 | 0 | 0 | 0 | 0 | 0 | 1 |\n",
       "| Ground | 0 | 1 | 0 | 1 | 0 | 0 | 0 | 1 | 0 | 0 | 0 | 0 | 1 | 0 | 0 | 0 | 1 | 0 |\n",
       "| Flying | 0 | 0 | 0 | 0 | 1 | 0 | 1 | 0 | 0 | 0 | 0 | 1 | 0 | 0 | 0 | 0 | 0 | 0 |\n",
       "| Psychic | 0 | 0 | 0 | 0 | 0 | 0 | 1 | 1 | 0 | 0 | 0 | 0 | 0 | 0 | 0 | 0 | 0 | 0 |\n",
       "| Bug | 0 | 0 | 0 | 0 | 1 | 0 | 0 | 0 | 0 | 0 | 1 | 0 | 0 | 0 | 0 | 1 | 0 | 0 |\n",
       "| Rock | 0 | 1 | 0 | 0 | 0 | 1 | 0 | 0 | 0 | 1 | 0 | 1 | 0 | 0 | 0 | 0 | 0 | 0 |\n",
       "| Ghost | 0 | 0 | 0 | 0 | 0 | 0 | 0 | 0 | 0 | 0 | 1 | 0 | 0 | 1 | 0 | 0 | 0 | 0 |\n",
       "| Dragon | 0 | 0 | 0 | 0 | 0 | 0 | 0 | 0 | 0 | 0 | 0 | 0 | 0 | 0 | 1 | 0 | 0 | 0 |\n",
       "| Dark | 0 | 0 | 0 | 0 | 0 | 0 | 0 | 0 | 0 | 0 | 1 | 0 | 0 | 1 | 0 | 0 | 0 | 0 |\n",
       "| Steel | 0 | 0 | 0 | 0 | 0 | 1 | 0 | 0 | 0 | 0 | 0 | 0 | 1 | 0 | 0 | 0 | 0 | 1 |\n",
       "| Fairy | 0 | 0 | 0 | 0 | 0 | 0 | 1 | 0 | 0 | 0 | 0 | 0 | 0 | 0 | 1 | 1 | 0 | 0 |\n",
       "\n"
      ],
      "text/plain": [
       "         Normal Fire Water Electric Grass Ice Fighting Poison Ground Flying\n",
       "Normal   0      0    0     0        0     0   0        0      0      0     \n",
       "Fire     0      0    0     0        1     1   0        0      0      0     \n",
       "Water    0      1    0     0        0     0   0        0      1      0     \n",
       "Electric 0      0    1     0        0     0   0        0      0      1     \n",
       "Grass    0      0    1     0        0     0   0        0      1      0     \n",
       "Ice      0      0    0     0        1     0   0        0      1      1     \n",
       "Fighting 1      0    0     0        0     1   0        0      0      0     \n",
       "Poison   0      0    0     0        1     0   0        0      0      0     \n",
       "Ground   0      1    0     1        0     0   0        1      0      0     \n",
       "Flying   0      0    0     0        1     0   1        0      0      0     \n",
       "Psychic  0      0    0     0        0     0   1        1      0      0     \n",
       "Bug      0      0    0     0        1     0   0        0      0      0     \n",
       "Rock     0      1    0     0        0     1   0        0      0      1     \n",
       "Ghost    0      0    0     0        0     0   0        0      0      0     \n",
       "Dragon   0      0    0     0        0     0   0        0      0      0     \n",
       "Dark     0      0    0     0        0     0   0        0      0      0     \n",
       "Steel    0      0    0     0        0     1   0        0      0      0     \n",
       "Fairy    0      0    0     0        0     0   1        0      0      0     \n",
       "         Psychic Bug Rock Ghost Dragon Dark Steel Fairy\n",
       "Normal   0       0   0    0     0      0    0     0    \n",
       "Fire     0       1   0    0     0      0    1     0    \n",
       "Water    0       0   1    0     0      0    0     0    \n",
       "Electric 0       0   0    0     0      0    0     0    \n",
       "Grass    0       0   1    0     0      0    0     0    \n",
       "Ice      0       0   0    0     1      0    0     0    \n",
       "Fighting 0       0   1    0     0      1    1     0    \n",
       "Poison   0       0   0    0     0      0    0     1    \n",
       "Ground   0       0   1    0     0      0    1     0    \n",
       "Flying   0       1   0    0     0      0    0     0    \n",
       "Psychic  0       0   0    0     0      0    0     0    \n",
       "Bug      1       0   0    0     0      1    0     0    \n",
       "Rock     0       1   0    0     0      0    0     0    \n",
       "Ghost    1       0   0    1     0      0    0     0    \n",
       "Dragon   0       0   0    0     1      0    0     0    \n",
       "Dark     1       0   0    1     0      0    0     0    \n",
       "Steel    0       0   1    0     0      0    0     1    \n",
       "Fairy    0       0   0    0     1      1    0     0    "
      ]
     },
     "metadata": {},
     "output_type": "display_data"
    }
   ],
   "source": [
    "combinations <- combn(18,6) #get all 6 value combinations of seq(1, 18). Basically this is every possible combination of pokemon teams\n",
    "m <- as.matrix(chart[, -1]) #get matrix of attack details without the column of types\n",
    "rownames(m) <- chart$Attacking\n",
    "super_effective_m <- (m == 2) * 1L\n",
    "super_effective_m #if super-effective, return 1. Otherwise return 0"
   ]
  },
  {
   "cell_type": "markdown",
   "metadata": {},
   "source": [
    "Now we have an 18x18 matrix with 1s where attacks are super effective, a 6x18564 matrix of possible combinations of 6 pokemon teams.. To work with this, we define a function that takes in each combination of pokemon types (every column of `combinations`), and sums the number of types the combination is super effective against. We find the types that appear in the most number of \"best combinations\"."
   ]
  },
  {
   "cell_type": "code",
   "execution_count": 88,
   "metadata": {},
   "outputs": [
    {
     "name": "stderr",
     "output_type": "stream",
     "text": [
      "`summarise()` ungrouping output (override with `.groups` argument)\n",
      "\n"
     ]
    },
    {
     "data": {
      "text/html": [
       "<table>\n",
       "<caption>A tibble: 12 × 2</caption>\n",
       "<thead>\n",
       "\t<tr><th scope=col>type</th><th scope=col>count</th></tr>\n",
       "\t<tr><th scope=col>&lt;chr&gt;</th><th scope=col>&lt;int&gt;</th></tr>\n",
       "</thead>\n",
       "<tbody>\n",
       "\t<tr><td>Ground  </td><td>10</td></tr>\n",
       "\t<tr><td>Fighting</td><td> 8</td></tr>\n",
       "\t<tr><td>Flying  </td><td> 8</td></tr>\n",
       "\t<tr><td>Ice     </td><td> 8</td></tr>\n",
       "\t<tr><td>Dark    </td><td> 5</td></tr>\n",
       "\t<tr><td>Ghost   </td><td> 5</td></tr>\n",
       "\t<tr><td>Grass   </td><td> 4</td></tr>\n",
       "\t<tr><td>Poison  </td><td> 4</td></tr>\n",
       "\t<tr><td>Electric</td><td> 2</td></tr>\n",
       "\t<tr><td>Fairy   </td><td> 2</td></tr>\n",
       "\t<tr><td>Rock    </td><td> 2</td></tr>\n",
       "\t<tr><td>Steel   </td><td> 2</td></tr>\n",
       "</tbody>\n",
       "</table>\n"
      ],
      "text/latex": [
       "A tibble: 12 × 2\n",
       "\\begin{tabular}{ll}\n",
       " type & count\\\\\n",
       " <chr> & <int>\\\\\n",
       "\\hline\n",
       "\t Ground   & 10\\\\\n",
       "\t Fighting &  8\\\\\n",
       "\t Flying   &  8\\\\\n",
       "\t Ice      &  8\\\\\n",
       "\t Dark     &  5\\\\\n",
       "\t Ghost    &  5\\\\\n",
       "\t Grass    &  4\\\\\n",
       "\t Poison   &  4\\\\\n",
       "\t Electric &  2\\\\\n",
       "\t Fairy    &  2\\\\\n",
       "\t Rock     &  2\\\\\n",
       "\t Steel    &  2\\\\\n",
       "\\end{tabular}\n"
      ],
      "text/markdown": [
       "\n",
       "A tibble: 12 × 2\n",
       "\n",
       "| type &lt;chr&gt; | count &lt;int&gt; |\n",
       "|---|---|\n",
       "| Ground   | 10 |\n",
       "| Fighting |  8 |\n",
       "| Flying   |  8 |\n",
       "| Ice      |  8 |\n",
       "| Dark     |  5 |\n",
       "| Ghost    |  5 |\n",
       "| Grass    |  4 |\n",
       "| Poison   |  4 |\n",
       "| Electric |  2 |\n",
       "| Fairy    |  2 |\n",
       "| Rock     |  2 |\n",
       "| Steel    |  2 |\n",
       "\n"
      ],
      "text/plain": [
       "   type     count\n",
       "1  Ground   10   \n",
       "2  Fighting  8   \n",
       "3  Flying    8   \n",
       "4  Ice       8   \n",
       "5  Dark      5   \n",
       "6  Ghost     5   \n",
       "7  Grass     4   \n",
       "8  Poison    4   \n",
       "9  Electric  2   \n",
       "10 Fairy     2   \n",
       "11 Rock      2   \n",
       "12 Steel     2   "
      ]
     },
     "metadata": {},
     "output_type": "display_data"
    }
   ],
   "source": [
    "super_effective_nb <- function(indices){\n",
    "#   for each pokemon group (6-row-subset of super_effective_m), take the column sum for each of the 18 columns. \n",
    "#   If colSums > 0, then there is at least 1 of the 6 types that is super effective against the type, so count \n",
    "#   this as a 1. Sum all types your group is super effective against.\n",
    "  sum(colSums(super_effective_m[indices, ]) > 0)\n",
    "}\n",
    "super_effective_results <- apply(combinations, 2, super_effective_nb) #find the number of super-effectives for each possible combination\n",
    "best_combos <- combinations[, super_effective_results == max(super_effective_results)] #10 out of 18564\n",
    "strongest_teams <- matrix(rownames(super_effective_m)[best_combos], nrow = 6)\n",
    "strongest_teams %>%\n",
    "  data.frame() %>%\n",
    "  mutate(count = 1:6) %>%\n",
    "  pivot_longer(-count, names_to = 'group', values_to = 'type') %>%\n",
    "  select(-count) %>%\n",
    "  group_by(type) %>%\n",
    "  summarise(count = length(unique(group))) %>%\n",
    "  arrange(desc(count))"
   ]
  },
  {
   "cell_type": "markdown",
   "metadata": {},
   "source": [
    "We can now see the pokemon types that are needed for the maximum possible super-effective team combination. (you cannot run away from having a ground type)\n",
    "\n",
    "### Equilibrium\n",
    "\n",
    "Let's assume this whole exercise is correct up to this point (ignore distribution of super-effective attacks, super-effective attacks worth 4x normal attacks, etc.). If we assume that this \"optimal\" response will be played, is the Nash equilibrium to reply with this? For illustration, I will just use the first group identified"
   ]
  },
  {
   "cell_type": "code",
   "execution_count": 89,
   "metadata": {},
   "outputs": [
    {
     "data": {
      "text/html": [
       "<table>\n",
       "<caption>A matrix: 18 × 6 of type int</caption>\n",
       "<thead>\n",
       "\t<tr><th></th><th scope=col>Electric</th><th scope=col>Ice</th><th scope=col>Fighting</th><th scope=col>Ground</th><th scope=col>Flying</th><th scope=col>Ghost</th></tr>\n",
       "</thead>\n",
       "<tbody>\n",
       "\t<tr><th scope=row>Normal</th><td>0</td><td>0</td><td>0</td><td>0</td><td>0</td><td>0</td></tr>\n",
       "\t<tr><th scope=row>Fire</th><td>0</td><td>1</td><td>0</td><td>0</td><td>0</td><td>0</td></tr>\n",
       "\t<tr><th scope=row>Water</th><td>0</td><td>0</td><td>0</td><td>1</td><td>0</td><td>0</td></tr>\n",
       "\t<tr><th scope=row>Electric</th><td>0</td><td>0</td><td>0</td><td>0</td><td>1</td><td>0</td></tr>\n",
       "\t<tr><th scope=row>Grass</th><td>0</td><td>0</td><td>0</td><td>1</td><td>0</td><td>0</td></tr>\n",
       "\t<tr><th scope=row>Ice</th><td>0</td><td>0</td><td>0</td><td>1</td><td>1</td><td>0</td></tr>\n",
       "\t<tr><th scope=row>Fighting</th><td>0</td><td>1</td><td>0</td><td>0</td><td>0</td><td>0</td></tr>\n",
       "\t<tr><th scope=row>Poison</th><td>0</td><td>0</td><td>0</td><td>0</td><td>0</td><td>0</td></tr>\n",
       "\t<tr><th scope=row>Ground</th><td>1</td><td>0</td><td>0</td><td>0</td><td>0</td><td>0</td></tr>\n",
       "\t<tr><th scope=row>Flying</th><td>0</td><td>0</td><td>1</td><td>0</td><td>0</td><td>0</td></tr>\n",
       "\t<tr><th scope=row>Psychic</th><td>0</td><td>0</td><td>1</td><td>0</td><td>0</td><td>0</td></tr>\n",
       "\t<tr><th scope=row>Bug</th><td>0</td><td>0</td><td>0</td><td>0</td><td>0</td><td>0</td></tr>\n",
       "\t<tr><th scope=row>Rock</th><td>0</td><td>1</td><td>0</td><td>0</td><td>1</td><td>0</td></tr>\n",
       "\t<tr><th scope=row>Ghost</th><td>0</td><td>0</td><td>0</td><td>0</td><td>0</td><td>1</td></tr>\n",
       "\t<tr><th scope=row>Dragon</th><td>0</td><td>0</td><td>0</td><td>0</td><td>0</td><td>0</td></tr>\n",
       "\t<tr><th scope=row>Dark</th><td>0</td><td>0</td><td>0</td><td>0</td><td>0</td><td>1</td></tr>\n",
       "\t<tr><th scope=row>Steel</th><td>0</td><td>1</td><td>0</td><td>0</td><td>0</td><td>0</td></tr>\n",
       "\t<tr><th scope=row>Fairy</th><td>0</td><td>0</td><td>1</td><td>0</td><td>0</td><td>0</td></tr>\n",
       "</tbody>\n",
       "</table>\n"
      ],
      "text/latex": [
       "A matrix: 18 × 6 of type int\n",
       "\\begin{tabular}{r|llllll}\n",
       "  & Electric & Ice & Fighting & Ground & Flying & Ghost\\\\\n",
       "\\hline\n",
       "\tNormal & 0 & 0 & 0 & 0 & 0 & 0\\\\\n",
       "\tFire & 0 & 1 & 0 & 0 & 0 & 0\\\\\n",
       "\tWater & 0 & 0 & 0 & 1 & 0 & 0\\\\\n",
       "\tElectric & 0 & 0 & 0 & 0 & 1 & 0\\\\\n",
       "\tGrass & 0 & 0 & 0 & 1 & 0 & 0\\\\\n",
       "\tIce & 0 & 0 & 0 & 1 & 1 & 0\\\\\n",
       "\tFighting & 0 & 1 & 0 & 0 & 0 & 0\\\\\n",
       "\tPoison & 0 & 0 & 0 & 0 & 0 & 0\\\\\n",
       "\tGround & 1 & 0 & 0 & 0 & 0 & 0\\\\\n",
       "\tFlying & 0 & 0 & 1 & 0 & 0 & 0\\\\\n",
       "\tPsychic & 0 & 0 & 1 & 0 & 0 & 0\\\\\n",
       "\tBug & 0 & 0 & 0 & 0 & 0 & 0\\\\\n",
       "\tRock & 0 & 1 & 0 & 0 & 1 & 0\\\\\n",
       "\tGhost & 0 & 0 & 0 & 0 & 0 & 1\\\\\n",
       "\tDragon & 0 & 0 & 0 & 0 & 0 & 0\\\\\n",
       "\tDark & 0 & 0 & 0 & 0 & 0 & 1\\\\\n",
       "\tSteel & 0 & 1 & 0 & 0 & 0 & 0\\\\\n",
       "\tFairy & 0 & 0 & 1 & 0 & 0 & 0\\\\\n",
       "\\end{tabular}\n"
      ],
      "text/markdown": [
       "\n",
       "A matrix: 18 × 6 of type int\n",
       "\n",
       "| <!--/--> | Electric | Ice | Fighting | Ground | Flying | Ghost |\n",
       "|---|---|---|---|---|---|---|\n",
       "| Normal | 0 | 0 | 0 | 0 | 0 | 0 |\n",
       "| Fire | 0 | 1 | 0 | 0 | 0 | 0 |\n",
       "| Water | 0 | 0 | 0 | 1 | 0 | 0 |\n",
       "| Electric | 0 | 0 | 0 | 0 | 1 | 0 |\n",
       "| Grass | 0 | 0 | 0 | 1 | 0 | 0 |\n",
       "| Ice | 0 | 0 | 0 | 1 | 1 | 0 |\n",
       "| Fighting | 0 | 1 | 0 | 0 | 0 | 0 |\n",
       "| Poison | 0 | 0 | 0 | 0 | 0 | 0 |\n",
       "| Ground | 1 | 0 | 0 | 0 | 0 | 0 |\n",
       "| Flying | 0 | 0 | 1 | 0 | 0 | 0 |\n",
       "| Psychic | 0 | 0 | 1 | 0 | 0 | 0 |\n",
       "| Bug | 0 | 0 | 0 | 0 | 0 | 0 |\n",
       "| Rock | 0 | 1 | 0 | 0 | 1 | 0 |\n",
       "| Ghost | 0 | 0 | 0 | 0 | 0 | 1 |\n",
       "| Dragon | 0 | 0 | 0 | 0 | 0 | 0 |\n",
       "| Dark | 0 | 0 | 0 | 0 | 0 | 1 |\n",
       "| Steel | 0 | 1 | 0 | 0 | 0 | 0 |\n",
       "| Fairy | 0 | 0 | 1 | 0 | 0 | 0 |\n",
       "\n"
      ],
      "text/plain": [
       "         Electric Ice Fighting Ground Flying Ghost\n",
       "Normal   0        0   0        0      0      0    \n",
       "Fire     0        1   0        0      0      0    \n",
       "Water    0        0   0        1      0      0    \n",
       "Electric 0        0   0        0      1      0    \n",
       "Grass    0        0   0        1      0      0    \n",
       "Ice      0        0   0        1      1      0    \n",
       "Fighting 0        1   0        0      0      0    \n",
       "Poison   0        0   0        0      0      0    \n",
       "Ground   1        0   0        0      0      0    \n",
       "Flying   0        0   1        0      0      0    \n",
       "Psychic  0        0   1        0      0      0    \n",
       "Bug      0        0   0        0      0      0    \n",
       "Rock     0        1   0        0      1      0    \n",
       "Ghost    0        0   0        0      0      1    \n",
       "Dragon   0        0   0        0      0      0    \n",
       "Dark     0        0   0        0      0      1    \n",
       "Steel    0        1   0        0      0      0    \n",
       "Fairy    0        0   1        0      0      0    "
      ]
     },
     "metadata": {},
     "output_type": "display_data"
    }
   ],
   "source": [
    "# Picking one of 10 the strongest combinations:\n",
    "strongestTeamIndex <- unique(row(super_effective_m)[rownames(super_effective_m) %in% strongest_teams[,1]])\n",
    "super_effective_m[,strongestTeamIndex]"
   ]
  },
  {
   "cell_type": "code",
   "execution_count": 33,
   "metadata": {},
   "outputs": [
    {
     "data": {
      "text/html": [
       "<style>\n",
       ".list-inline {list-style: none; margin:0; padding: 0}\n",
       ".list-inline>li {display: inline-block}\n",
       ".list-inline>li:not(:last-child)::after {content: \"\\00b7\"; padding: 0 .5ex}\n",
       "</style>\n",
       "<ol class=list-inline><li>6</li><li>396</li></ol>\n"
      ],
      "text/latex": [
       "\\begin{enumerate*}\n",
       "\\item 6\n",
       "\\item 396\n",
       "\\end{enumerate*}\n"
      ],
      "text/markdown": [
       "1. 6\n",
       "2. 396\n",
       "\n",
       "\n"
      ],
      "text/plain": [
       "[1]   6 396"
      ]
     },
     "metadata": {},
     "output_type": "display_data"
    }
   ],
   "source": [
    "super_effective_nb_subset <- function(indices){\n",
    "    sum(colSums(super_effective_m[indices, strongestTeamIndex]) > 0)\n",
    "}\n",
    "super_effective_results_subset <- apply(combinations, 2, super_effective_nb_subset)\n",
    "best_combos_subset <- combinations[, super_effective_results_subset == max(super_effective_results_subset)]\n",
    "dim(best_combos_subset)"
   ]
  },
  {
   "cell_type": "markdown",
   "metadata": {},
   "source": [
    "Clearly, when you have a fixed team of only 6 to counter, there are a lot more possible \"optimal\" combinations. The point is to see if you have the optimal 10 among the 396 combinations identified."
   ]
  },
  {
   "cell_type": "code",
   "execution_count": 34,
   "metadata": {},
   "outputs": [
    {
     "data": {
      "text/html": [
       "<style>\n",
       ".list-inline {list-style: none; margin:0; padding: 0}\n",
       ".list-inline>li {display: inline-block}\n",
       ".list-inline>li:not(:last-child)::after {content: \"\\00b7\"; padding: 0 .5ex}\n",
       "</style>\n",
       "<ol class=list-inline><li>TRUE</li><li>TRUE</li><li>TRUE</li><li>TRUE</li><li>TRUE</li><li>TRUE</li><li>TRUE</li><li>TRUE</li><li>TRUE</li><li>TRUE</li></ol>\n"
      ],
      "text/latex": [
       "\\begin{enumerate*}\n",
       "\\item TRUE\n",
       "\\item TRUE\n",
       "\\item TRUE\n",
       "\\item TRUE\n",
       "\\item TRUE\n",
       "\\item TRUE\n",
       "\\item TRUE\n",
       "\\item TRUE\n",
       "\\item TRUE\n",
       "\\item TRUE\n",
       "\\end{enumerate*}\n"
      ],
      "text/markdown": [
       "1. TRUE\n",
       "2. TRUE\n",
       "3. TRUE\n",
       "4. TRUE\n",
       "5. TRUE\n",
       "6. TRUE\n",
       "7. TRUE\n",
       "8. TRUE\n",
       "9. TRUE\n",
       "10. TRUE\n",
       "\n",
       "\n"
      ],
      "text/plain": [
       " [1] TRUE TRUE TRUE TRUE TRUE TRUE TRUE TRUE TRUE TRUE"
      ]
     },
     "metadata": {},
     "output_type": "display_data"
    }
   ],
   "source": [
    "subset <- t(best_combos_subset) %>%\n",
    "  as.data.frame() %>%\n",
    "  unite('string', V1:V6)\n",
    "optimal <- t(best_combos) %>%\n",
    "  as.data.frame() %>%\n",
    "  unite('string', V1:V6)\n",
    "  \n",
    "optimal$string %in% subset$string"
   ]
  },
  {
   "cell_type": "markdown",
   "metadata": {},
   "source": [
    "All 10 appear in the subset! Which suggests that, ceteris paribus, it is always better to choose among the 10 optimal strategies identified above that maximise super effective attacks when responding to a `c(Electric, Ice, Fighting, Ground, Flying, Ghost)` team. "
   ]
  },
  {
   "cell_type": "markdown",
   "metadata": {},
   "source": [
    "<b id=\"f1\">1</b> $\\frac{18!}{12! \\cdot 6!} = 18564$ [↩](#a1)"
   ]
  }
 ],
 "metadata": {
  "kernelspec": {
   "display_name": "R",
   "language": "R",
   "name": "ir"
  },
  "language_info": {
   "codemirror_mode": "r",
   "file_extension": ".r",
   "mimetype": "text/x-r-source",
   "name": "R",
   "pygments_lexer": "r",
   "version": "4.0.3"
  }
 },
 "nbformat": 4,
 "nbformat_minor": 4
}
